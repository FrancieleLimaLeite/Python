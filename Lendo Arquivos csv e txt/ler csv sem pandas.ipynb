{
 "cells": [
  {
   "cell_type": "markdown",
   "metadata": {},
   "source": [
    "## Exercício 2\n",
    "\n",
    "### Considere um arquivo CSV (comma separated values) com informações demográficas sobre super heróis (heroes_information.csv):\n",
    "- id - Numero da linha\n",
    "- name - Nome\n",
    "- Gender - Gênero\n",
    "- Eye color - Cor dos olhos\n",
    "- Race - Raça\n",
    "- Hair color - Cor do cabelo\n",
    "- Height - Altura em centimetros\n",
    "- Publisher - Estúdio\n",
    "- Skin color - Cor da pele\n",
    "- Alignment - Vilão ou herói\n",
    "- Weight - Peso em libras\n",
    "\n",
    "### Pede-se\n",
    "* Crie uma função que efetue a leitura do arquivo e crie:\n",
    "    - Um arquivo de saida (heroes_male.csv) com todos os heróis do gênero masculino (id, name)\n",
    "    - Um arquivo de saida (heroes_female.csv) com todos os heróis do gênero feminino (id, name)\n",
    "    - Um arquivo de saida (heroes_no_gender.csv) com todos os heróis sem gênero defindo (id, name)\n",
    "    - Um arquivo de saida (heroes_mavel_comics.txt) com o nome de todos os heróis dos estúdios Marvel Comics e DC Comics (um nome por linha)"
   ]
  },
  {
   "cell_type": "code",
   "execution_count": 1,
   "metadata": {},
   "outputs": [],
   "source": [
    "import csv"
   ]
  },
  {
   "cell_type": "code",
   "execution_count": 2,
   "metadata": {},
   "outputs": [],
   "source": [
    "def save_csv(file, content):\n",
    "    with open(file, 'w', newline='') as f:\n",
    "        writer = csv.writer(f)\n",
    "        writer.writerows(content)\n",
    "\n",
    "def save_txt(file, content):\n",
    "    with open(file, 'w') as f:\n",
    "        f.writelines(content)"
   ]
  },
  {
   "cell_type": "code",
   "execution_count": 70,
   "metadata": {},
   "outputs": [],
   "source": [
    "def process_file(filename):\n",
    "    # open input file for reading\n",
    "    with open(filename, 'r') as f:\n",
    "        # csv reader\n",
    "        reader = csv.reader(f)\n",
    "\n",
    "        # create lists\n",
    "        header = next(reader)[0:2]\n",
    "        males = [header]\n",
    "        females = [header]\n",
    "        without_gender = [header]\n",
    "        heroes_studios = []\n",
    "\n",
    "        # iterate over file lines\n",
    "        for hero in reader:\n",
    "            # split by gender\n",
    "            csv_content = [hero[0].strip(), hero[1].strip()]\n",
    "            if hero[2].strip().lower() == 'male':\n",
    "                males.append(csv_content)\n",
    "            elif hero[2].strip().lower() == 'female':\n",
    "                females.append(csv_content)\n",
    "            else:\n",
    "                without_gender.append(csv_content)\n",
    "\n",
    "            # split by studio\n",
    "            if(hero[7].strip().lower() == 'dc comics' or\n",
    "                hero[7].strip().lower() == 'marvel comics'):\n",
    "                heroes_studios.append(hero[1] + '\\n')\n",
    "\n",
    "        # save cvs files\n",
    "        save_csv('heroes_male.csv', males)\n",
    "        save_csv('heroes_female.csv', females)\n",
    "        save_csv('heroes_without_gender.csv', without_gender)\n",
    "        \n",
    "        # save txt files\n",
    "        save_txt('heroes_mavel_comics.txt', heroes_studios)"
   ]
  },
  {
   "cell_type": "code",
   "execution_count": 71,
   "metadata": {},
   "outputs": [],
   "source": [
    "process_file('heroes_information.csv')"
   ]
  }
 ],
 "metadata": {
  "kernelspec": {
   "display_name": "Python 3 (ipykernel)",
   "language": "python",
   "name": "python3"
  },
  "language_info": {
   "codemirror_mode": {
    "name": "ipython",
    "version": 3
   },
   "file_extension": ".py",
   "mimetype": "text/x-python",
   "name": "python",
   "nbconvert_exporter": "python",
   "pygments_lexer": "ipython3",
   "version": "3.9.2"
  }
 },
 "nbformat": 4,
 "nbformat_minor": 2
}
