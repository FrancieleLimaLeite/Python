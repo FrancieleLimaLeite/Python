{
 "cells": [
  {
   "cell_type": "markdown",
   "metadata": {},
   "source": [
    "# Exercício 1 - Ligações para o 911"
   ]
  },
  {
   "cell_type": "markdown",
   "metadata": {},
   "source": [
    "### Nos EUA, o número 911 é destinado à emergências. O [Kaggle](https://www.kaggle.com/mchirico/montcoalert) disponibilizou dados de ligações para o serviço:\n",
    "\n",
    "* lat: Variável String, Latitude\n",
    "* lng: Variável String, Longitude\n",
    "* desc: Variável String, Descrição da Chamada de Emergência\n",
    "* zip: Variável String, CEP\n",
    "* título: Variável String, Título\n",
    "* timeStamp: Variável String, AAAA-MM-DD HH: MM: SS\n",
    "* twp: Variável String, Township\n",
    "* addr: Variável String, Endereço\n",
    "* e: Variável String, variável Dummy (sempre 1)\n",
    "\n"
   ]
  },
  {
   "cell_type": "markdown",
   "metadata": {},
   "source": [
    "### Leia o arquivo csv (911.csv) como um dataframe chamado _calls_"
   ]
  },
  {
   "cell_type": "code",
   "execution_count": 38,
   "metadata": {},
   "outputs": [],
   "source": [
    "import pandas as pd\n",
    "import matplotlib as plt"
   ]
  },
  {
   "cell_type": "code",
   "execution_count": 2,
   "metadata": {},
   "outputs": [
    {
     "data": {
      "text/html": [
       "<div>\n",
       "<style scoped>\n",
       "    .dataframe tbody tr th:only-of-type {\n",
       "        vertical-align: middle;\n",
       "    }\n",
       "\n",
       "    .dataframe tbody tr th {\n",
       "        vertical-align: top;\n",
       "    }\n",
       "\n",
       "    .dataframe thead th {\n",
       "        text-align: right;\n",
       "    }\n",
       "</style>\n",
       "<table border=\"1\" class=\"dataframe\">\n",
       "  <thead>\n",
       "    <tr style=\"text-align: right;\">\n",
       "      <th></th>\n",
       "      <th>lat</th>\n",
       "      <th>lng</th>\n",
       "      <th>desc</th>\n",
       "      <th>zip</th>\n",
       "      <th>title</th>\n",
       "      <th>timeStamp</th>\n",
       "      <th>twp</th>\n",
       "      <th>addr</th>\n",
       "      <th>e</th>\n",
       "    </tr>\n",
       "  </thead>\n",
       "  <tbody>\n",
       "    <tr>\n",
       "      <th>0</th>\n",
       "      <td>40.297876</td>\n",
       "      <td>-75.581294</td>\n",
       "      <td>REINDEER CT &amp; DEAD END;  NEW HANOVER; Station ...</td>\n",
       "      <td>19525.0</td>\n",
       "      <td>EMS: BACK PAINS/INJURY</td>\n",
       "      <td>2015-12-10 17:40:00</td>\n",
       "      <td>NEW HANOVER</td>\n",
       "      <td>REINDEER CT &amp; DEAD END</td>\n",
       "      <td>1</td>\n",
       "    </tr>\n",
       "    <tr>\n",
       "      <th>1</th>\n",
       "      <td>40.258061</td>\n",
       "      <td>-75.264680</td>\n",
       "      <td>BRIAR PATH &amp; WHITEMARSH LN;  HATFIELD TOWNSHIP...</td>\n",
       "      <td>19446.0</td>\n",
       "      <td>EMS: DIABETIC EMERGENCY</td>\n",
       "      <td>2015-12-10 17:40:00</td>\n",
       "      <td>HATFIELD TOWNSHIP</td>\n",
       "      <td>BRIAR PATH &amp; WHITEMARSH LN</td>\n",
       "      <td>1</td>\n",
       "    </tr>\n",
       "    <tr>\n",
       "      <th>2</th>\n",
       "      <td>40.121182</td>\n",
       "      <td>-75.351975</td>\n",
       "      <td>HAWS AVE; NORRISTOWN; 2015-12-10 @ 14:39:21-St...</td>\n",
       "      <td>19401.0</td>\n",
       "      <td>Fire: GAS-ODOR/LEAK</td>\n",
       "      <td>2015-12-10 17:40:00</td>\n",
       "      <td>NORRISTOWN</td>\n",
       "      <td>HAWS AVE</td>\n",
       "      <td>1</td>\n",
       "    </tr>\n",
       "    <tr>\n",
       "      <th>3</th>\n",
       "      <td>40.116153</td>\n",
       "      <td>-75.343513</td>\n",
       "      <td>AIRY ST &amp; SWEDE ST;  NORRISTOWN; Station 308A;...</td>\n",
       "      <td>19401.0</td>\n",
       "      <td>EMS: CARDIAC EMERGENCY</td>\n",
       "      <td>2015-12-10 17:40:01</td>\n",
       "      <td>NORRISTOWN</td>\n",
       "      <td>AIRY ST &amp; SWEDE ST</td>\n",
       "      <td>1</td>\n",
       "    </tr>\n",
       "    <tr>\n",
       "      <th>4</th>\n",
       "      <td>40.251492</td>\n",
       "      <td>-75.603350</td>\n",
       "      <td>CHERRYWOOD CT &amp; DEAD END;  LOWER POTTSGROVE; S...</td>\n",
       "      <td>NaN</td>\n",
       "      <td>EMS: DIZZINESS</td>\n",
       "      <td>2015-12-10 17:40:01</td>\n",
       "      <td>LOWER POTTSGROVE</td>\n",
       "      <td>CHERRYWOOD CT &amp; DEAD END</td>\n",
       "      <td>1</td>\n",
       "    </tr>\n",
       "    <tr>\n",
       "      <th>...</th>\n",
       "      <td>...</td>\n",
       "      <td>...</td>\n",
       "      <td>...</td>\n",
       "      <td>...</td>\n",
       "      <td>...</td>\n",
       "      <td>...</td>\n",
       "      <td>...</td>\n",
       "      <td>...</td>\n",
       "      <td>...</td>\n",
       "    </tr>\n",
       "    <tr>\n",
       "      <th>99487</th>\n",
       "      <td>40.132869</td>\n",
       "      <td>-75.333515</td>\n",
       "      <td>MARKLEY ST &amp; W LOGAN ST; NORRISTOWN; 2016-08-2...</td>\n",
       "      <td>19401.0</td>\n",
       "      <td>Traffic: VEHICLE ACCIDENT -</td>\n",
       "      <td>2016-08-24 11:06:00</td>\n",
       "      <td>NORRISTOWN</td>\n",
       "      <td>MARKLEY ST &amp; W LOGAN ST</td>\n",
       "      <td>1</td>\n",
       "    </tr>\n",
       "    <tr>\n",
       "      <th>99488</th>\n",
       "      <td>40.006974</td>\n",
       "      <td>-75.289080</td>\n",
       "      <td>LANCASTER AVE &amp; RITTENHOUSE PL; LOWER MERION; ...</td>\n",
       "      <td>19003.0</td>\n",
       "      <td>Traffic: VEHICLE ACCIDENT -</td>\n",
       "      <td>2016-08-24 11:07:02</td>\n",
       "      <td>LOWER MERION</td>\n",
       "      <td>LANCASTER AVE &amp; RITTENHOUSE PL</td>\n",
       "      <td>1</td>\n",
       "    </tr>\n",
       "    <tr>\n",
       "      <th>99489</th>\n",
       "      <td>40.115429</td>\n",
       "      <td>-75.334679</td>\n",
       "      <td>CHESTNUT ST &amp; WALNUT ST;  NORRISTOWN; Station ...</td>\n",
       "      <td>19401.0</td>\n",
       "      <td>EMS: FALL VICTIM</td>\n",
       "      <td>2016-08-24 11:12:00</td>\n",
       "      <td>NORRISTOWN</td>\n",
       "      <td>CHESTNUT ST &amp; WALNUT ST</td>\n",
       "      <td>1</td>\n",
       "    </tr>\n",
       "    <tr>\n",
       "      <th>99490</th>\n",
       "      <td>40.186431</td>\n",
       "      <td>-75.192555</td>\n",
       "      <td>WELSH RD &amp; WEBSTER LN;  HORSHAM; Station 352; ...</td>\n",
       "      <td>19002.0</td>\n",
       "      <td>EMS: NAUSEA/VOMITING</td>\n",
       "      <td>2016-08-24 11:17:01</td>\n",
       "      <td>HORSHAM</td>\n",
       "      <td>WELSH RD &amp; WEBSTER LN</td>\n",
       "      <td>1</td>\n",
       "    </tr>\n",
       "    <tr>\n",
       "      <th>99491</th>\n",
       "      <td>40.207055</td>\n",
       "      <td>-75.317952</td>\n",
       "      <td>MORRIS RD &amp; S BROAD ST; UPPER GWYNEDD; 2016-08...</td>\n",
       "      <td>19446.0</td>\n",
       "      <td>Traffic: VEHICLE ACCIDENT -</td>\n",
       "      <td>2016-08-24 11:17:02</td>\n",
       "      <td>UPPER GWYNEDD</td>\n",
       "      <td>MORRIS RD &amp; S BROAD ST</td>\n",
       "      <td>1</td>\n",
       "    </tr>\n",
       "  </tbody>\n",
       "</table>\n",
       "<p>99492 rows × 9 columns</p>\n",
       "</div>"
      ],
      "text/plain": [
       "             lat        lng  \\\n",
       "0      40.297876 -75.581294   \n",
       "1      40.258061 -75.264680   \n",
       "2      40.121182 -75.351975   \n",
       "3      40.116153 -75.343513   \n",
       "4      40.251492 -75.603350   \n",
       "...          ...        ...   \n",
       "99487  40.132869 -75.333515   \n",
       "99488  40.006974 -75.289080   \n",
       "99489  40.115429 -75.334679   \n",
       "99490  40.186431 -75.192555   \n",
       "99491  40.207055 -75.317952   \n",
       "\n",
       "                                                    desc      zip  \\\n",
       "0      REINDEER CT & DEAD END;  NEW HANOVER; Station ...  19525.0   \n",
       "1      BRIAR PATH & WHITEMARSH LN;  HATFIELD TOWNSHIP...  19446.0   \n",
       "2      HAWS AVE; NORRISTOWN; 2015-12-10 @ 14:39:21-St...  19401.0   \n",
       "3      AIRY ST & SWEDE ST;  NORRISTOWN; Station 308A;...  19401.0   \n",
       "4      CHERRYWOOD CT & DEAD END;  LOWER POTTSGROVE; S...      NaN   \n",
       "...                                                  ...      ...   \n",
       "99487  MARKLEY ST & W LOGAN ST; NORRISTOWN; 2016-08-2...  19401.0   \n",
       "99488  LANCASTER AVE & RITTENHOUSE PL; LOWER MERION; ...  19003.0   \n",
       "99489  CHESTNUT ST & WALNUT ST;  NORRISTOWN; Station ...  19401.0   \n",
       "99490  WELSH RD & WEBSTER LN;  HORSHAM; Station 352; ...  19002.0   \n",
       "99491  MORRIS RD & S BROAD ST; UPPER GWYNEDD; 2016-08...  19446.0   \n",
       "\n",
       "                             title            timeStamp                twp  \\\n",
       "0           EMS: BACK PAINS/INJURY  2015-12-10 17:40:00        NEW HANOVER   \n",
       "1          EMS: DIABETIC EMERGENCY  2015-12-10 17:40:00  HATFIELD TOWNSHIP   \n",
       "2              Fire: GAS-ODOR/LEAK  2015-12-10 17:40:00         NORRISTOWN   \n",
       "3           EMS: CARDIAC EMERGENCY  2015-12-10 17:40:01         NORRISTOWN   \n",
       "4                   EMS: DIZZINESS  2015-12-10 17:40:01   LOWER POTTSGROVE   \n",
       "...                            ...                  ...                ...   \n",
       "99487  Traffic: VEHICLE ACCIDENT -  2016-08-24 11:06:00         NORRISTOWN   \n",
       "99488  Traffic: VEHICLE ACCIDENT -  2016-08-24 11:07:02       LOWER MERION   \n",
       "99489             EMS: FALL VICTIM  2016-08-24 11:12:00         NORRISTOWN   \n",
       "99490         EMS: NAUSEA/VOMITING  2016-08-24 11:17:01            HORSHAM   \n",
       "99491  Traffic: VEHICLE ACCIDENT -  2016-08-24 11:17:02      UPPER GWYNEDD   \n",
       "\n",
       "                                 addr  e  \n",
       "0              REINDEER CT & DEAD END  1  \n",
       "1          BRIAR PATH & WHITEMARSH LN  1  \n",
       "2                            HAWS AVE  1  \n",
       "3                  AIRY ST & SWEDE ST  1  \n",
       "4            CHERRYWOOD CT & DEAD END  1  \n",
       "...                               ... ..  \n",
       "99487         MARKLEY ST & W LOGAN ST  1  \n",
       "99488  LANCASTER AVE & RITTENHOUSE PL  1  \n",
       "99489         CHESTNUT ST & WALNUT ST  1  \n",
       "99490           WELSH RD & WEBSTER LN  1  \n",
       "99491          MORRIS RD & S BROAD ST  1  \n",
       "\n",
       "[99492 rows x 9 columns]"
      ]
     },
     "execution_count": 2,
     "metadata": {},
     "output_type": "execute_result"
    }
   ],
   "source": [
    "calls = pd.read_csv('911.csv')\n",
    "calls"
   ]
  },
  {
   "cell_type": "markdown",
   "metadata": {},
   "source": [
    "### Quantas linhas e colunas tem o arquivo? Qual a quantidade de memória necessária para carregá-lo?"
   ]
  },
  {
   "cell_type": "code",
   "execution_count": 3,
   "metadata": {},
   "outputs": [
    {
     "name": "stdout",
     "output_type": "stream",
     "text": [
      "<class 'pandas.core.frame.DataFrame'>\n",
      "RangeIndex: 99492 entries, 0 to 99491\n",
      "Data columns (total 9 columns):\n",
      " #   Column     Non-Null Count  Dtype  \n",
      "---  ------     --------------  -----  \n",
      " 0   lat        99492 non-null  float64\n",
      " 1   lng        99492 non-null  float64\n",
      " 2   desc       99492 non-null  object \n",
      " 3   zip        86637 non-null  float64\n",
      " 4   title      99492 non-null  object \n",
      " 5   timeStamp  99492 non-null  object \n",
      " 6   twp        99449 non-null  object \n",
      " 7   addr       98973 non-null  object \n",
      " 8   e          99492 non-null  int64  \n",
      "dtypes: float64(3), int64(1), object(5)\n",
      "memory usage: 6.8+ MB\n"
     ]
    }
   ],
   "source": [
    "calls.info()"
   ]
  },
  {
   "cell_type": "code",
   "execution_count": null,
   "metadata": {},
   "outputs": [],
   "source": []
  },
  {
   "cell_type": "markdown",
   "metadata": {},
   "source": [
    "### Quais são os top 5 CEPs nas chamadas 911?"
   ]
  },
  {
   "cell_type": "code",
   "execution_count": 18,
   "metadata": {},
   "outputs": [
    {
     "data": {
      "text/plain": [
       "19401.0    6979\n",
       "19464.0    6643\n",
       "19403.0    4854\n",
       "19446.0    4748\n",
       "19406.0    3174\n",
       "Name: zip, dtype: int64"
      ]
     },
     "execution_count": 18,
     "metadata": {},
     "output_type": "execute_result"
    }
   ],
   "source": [
    "calls['zip'].value_counts().head()"
   ]
  },
  {
   "cell_type": "code",
   "execution_count": null,
   "metadata": {},
   "outputs": [],
   "source": []
  },
  {
   "cell_type": "markdown",
   "metadata": {},
   "source": [
    "### Quais são os 5 principais municípios nas chamadas 911?"
   ]
  },
  {
   "cell_type": "code",
   "execution_count": 21,
   "metadata": {},
   "outputs": [
    {
     "data": {
      "text/plain": [
       "LOWER MERION    8443\n",
       "ABINGTON        5977\n",
       "NORRISTOWN      5890\n",
       "UPPER MERION    5227\n",
       "CHELTENHAM      4575\n",
       "Name: twp, dtype: int64"
      ]
     },
     "execution_count": 21,
     "metadata": {},
     "output_type": "execute_result"
    }
   ],
   "source": [
    "calls.twp.value_counts().head(5)"
   ]
  },
  {
   "cell_type": "code",
   "execution_count": null,
   "metadata": {},
   "outputs": [],
   "source": []
  },
  {
   "cell_type": "markdown",
   "metadata": {},
   "source": [
    "### Quantos códigos de título únicos existem?"
   ]
  },
  {
   "cell_type": "code",
   "execution_count": 23,
   "metadata": {},
   "outputs": [
    {
     "data": {
      "text/plain": [
       "110"
      ]
     },
     "execution_count": 23,
     "metadata": {},
     "output_type": "execute_result"
    }
   ],
   "source": [
    "calls['title'].nunique()"
   ]
  },
  {
   "cell_type": "code",
   "execution_count": null,
   "metadata": {},
   "outputs": [],
   "source": []
  },
  {
   "cell_type": "markdown",
   "metadata": {},
   "source": [
    "### Na coluna _title_ existem Razões / Departamentos especificados antes do código do título. Estes são _\"EMS\", \"Fire\"  e  \"Traffic\"_. Crie uma nova coluna chamada _Reason_ que conterá esse valor em cada linha\n",
    "\n",
    "#### Por exemplo, se o valor da coluna do título for EMS: BACK PAINS / BLESSOR, o valor da coluna Reason será EMS."
   ]
  },
  {
   "cell_type": "code",
   "execution_count": 25,
   "metadata": {},
   "outputs": [
    {
     "data": {
      "text/plain": [
       "0             [EMS,  BACK PAINS/INJURY]\n",
       "1            [EMS,  DIABETIC EMERGENCY]\n",
       "2                [Fire,  GAS-ODOR/LEAK]\n",
       "3             [EMS,  CARDIAC EMERGENCY]\n",
       "4                     [EMS,  DIZZINESS]\n",
       "                      ...              \n",
       "99487    [Traffic,  VEHICLE ACCIDENT -]\n",
       "99488    [Traffic,  VEHICLE ACCIDENT -]\n",
       "99489               [EMS,  FALL VICTIM]\n",
       "99490           [EMS,  NAUSEA/VOMITING]\n",
       "99491    [Traffic,  VEHICLE ACCIDENT -]\n",
       "Name: title, Length: 99492, dtype: object"
      ]
     },
     "execution_count": 25,
     "metadata": {},
     "output_type": "execute_result"
    }
   ],
   "source": [
    "calls.title.str.split(':')"
   ]
  },
  {
   "cell_type": "code",
   "execution_count": 26,
   "metadata": {},
   "outputs": [
    {
     "data": {
      "text/plain": [
       "0            EMS\n",
       "1            EMS\n",
       "2           Fire\n",
       "3            EMS\n",
       "4            EMS\n",
       "          ...   \n",
       "99487    Traffic\n",
       "99488    Traffic\n",
       "99489        EMS\n",
       "99490        EMS\n",
       "99491    Traffic\n",
       "Name: title, Length: 99492, dtype: object"
      ]
     },
     "execution_count": 26,
     "metadata": {},
     "output_type": "execute_result"
    }
   ],
   "source": [
    "calls.title.apply(lambda title: title.split(':')[0])"
   ]
  },
  {
   "cell_type": "code",
   "execution_count": 28,
   "metadata": {},
   "outputs": [
    {
     "data": {
      "text/html": [
       "<div>\n",
       "<style scoped>\n",
       "    .dataframe tbody tr th:only-of-type {\n",
       "        vertical-align: middle;\n",
       "    }\n",
       "\n",
       "    .dataframe tbody tr th {\n",
       "        vertical-align: top;\n",
       "    }\n",
       "\n",
       "    .dataframe thead th {\n",
       "        text-align: right;\n",
       "    }\n",
       "</style>\n",
       "<table border=\"1\" class=\"dataframe\">\n",
       "  <thead>\n",
       "    <tr style=\"text-align: right;\">\n",
       "      <th></th>\n",
       "      <th>lat</th>\n",
       "      <th>lng</th>\n",
       "      <th>desc</th>\n",
       "      <th>zip</th>\n",
       "      <th>title</th>\n",
       "      <th>timeStamp</th>\n",
       "      <th>twp</th>\n",
       "      <th>addr</th>\n",
       "      <th>e</th>\n",
       "      <th>reason</th>\n",
       "      <th>Reason</th>\n",
       "    </tr>\n",
       "  </thead>\n",
       "  <tbody>\n",
       "    <tr>\n",
       "      <th>0</th>\n",
       "      <td>40.297876</td>\n",
       "      <td>-75.581294</td>\n",
       "      <td>REINDEER CT &amp; DEAD END;  NEW HANOVER; Station ...</td>\n",
       "      <td>19525.0</td>\n",
       "      <td>EMS: BACK PAINS/INJURY</td>\n",
       "      <td>2015-12-10 17:40:00</td>\n",
       "      <td>NEW HANOVER</td>\n",
       "      <td>REINDEER CT &amp; DEAD END</td>\n",
       "      <td>1</td>\n",
       "      <td>EMS: BACK PAINS/INJURY</td>\n",
       "      <td>EMS</td>\n",
       "    </tr>\n",
       "    <tr>\n",
       "      <th>1</th>\n",
       "      <td>40.258061</td>\n",
       "      <td>-75.264680</td>\n",
       "      <td>BRIAR PATH &amp; WHITEMARSH LN;  HATFIELD TOWNSHIP...</td>\n",
       "      <td>19446.0</td>\n",
       "      <td>EMS: DIABETIC EMERGENCY</td>\n",
       "      <td>2015-12-10 17:40:00</td>\n",
       "      <td>HATFIELD TOWNSHIP</td>\n",
       "      <td>BRIAR PATH &amp; WHITEMARSH LN</td>\n",
       "      <td>1</td>\n",
       "      <td>EMS: DIABETIC EMERGENCY</td>\n",
       "      <td>EMS</td>\n",
       "    </tr>\n",
       "    <tr>\n",
       "      <th>2</th>\n",
       "      <td>40.121182</td>\n",
       "      <td>-75.351975</td>\n",
       "      <td>HAWS AVE; NORRISTOWN; 2015-12-10 @ 14:39:21-St...</td>\n",
       "      <td>19401.0</td>\n",
       "      <td>Fire: GAS-ODOR/LEAK</td>\n",
       "      <td>2015-12-10 17:40:00</td>\n",
       "      <td>NORRISTOWN</td>\n",
       "      <td>HAWS AVE</td>\n",
       "      <td>1</td>\n",
       "      <td>Fire: GAS-ODOR/LEAK</td>\n",
       "      <td>Fire</td>\n",
       "    </tr>\n",
       "    <tr>\n",
       "      <th>3</th>\n",
       "      <td>40.116153</td>\n",
       "      <td>-75.343513</td>\n",
       "      <td>AIRY ST &amp; SWEDE ST;  NORRISTOWN; Station 308A;...</td>\n",
       "      <td>19401.0</td>\n",
       "      <td>EMS: CARDIAC EMERGENCY</td>\n",
       "      <td>2015-12-10 17:40:01</td>\n",
       "      <td>NORRISTOWN</td>\n",
       "      <td>AIRY ST &amp; SWEDE ST</td>\n",
       "      <td>1</td>\n",
       "      <td>EMS: CARDIAC EMERGENCY</td>\n",
       "      <td>EMS</td>\n",
       "    </tr>\n",
       "    <tr>\n",
       "      <th>4</th>\n",
       "      <td>40.251492</td>\n",
       "      <td>-75.603350</td>\n",
       "      <td>CHERRYWOOD CT &amp; DEAD END;  LOWER POTTSGROVE; S...</td>\n",
       "      <td>NaN</td>\n",
       "      <td>EMS: DIZZINESS</td>\n",
       "      <td>2015-12-10 17:40:01</td>\n",
       "      <td>LOWER POTTSGROVE</td>\n",
       "      <td>CHERRYWOOD CT &amp; DEAD END</td>\n",
       "      <td>1</td>\n",
       "      <td>EMS: DIZZINESS</td>\n",
       "      <td>EMS</td>\n",
       "    </tr>\n",
       "    <tr>\n",
       "      <th>...</th>\n",
       "      <td>...</td>\n",
       "      <td>...</td>\n",
       "      <td>...</td>\n",
       "      <td>...</td>\n",
       "      <td>...</td>\n",
       "      <td>...</td>\n",
       "      <td>...</td>\n",
       "      <td>...</td>\n",
       "      <td>...</td>\n",
       "      <td>...</td>\n",
       "      <td>...</td>\n",
       "    </tr>\n",
       "    <tr>\n",
       "      <th>99487</th>\n",
       "      <td>40.132869</td>\n",
       "      <td>-75.333515</td>\n",
       "      <td>MARKLEY ST &amp; W LOGAN ST; NORRISTOWN; 2016-08-2...</td>\n",
       "      <td>19401.0</td>\n",
       "      <td>Traffic: VEHICLE ACCIDENT -</td>\n",
       "      <td>2016-08-24 11:06:00</td>\n",
       "      <td>NORRISTOWN</td>\n",
       "      <td>MARKLEY ST &amp; W LOGAN ST</td>\n",
       "      <td>1</td>\n",
       "      <td>Traffic: VEHICLE ACCIDENT -</td>\n",
       "      <td>Traffic</td>\n",
       "    </tr>\n",
       "    <tr>\n",
       "      <th>99488</th>\n",
       "      <td>40.006974</td>\n",
       "      <td>-75.289080</td>\n",
       "      <td>LANCASTER AVE &amp; RITTENHOUSE PL; LOWER MERION; ...</td>\n",
       "      <td>19003.0</td>\n",
       "      <td>Traffic: VEHICLE ACCIDENT -</td>\n",
       "      <td>2016-08-24 11:07:02</td>\n",
       "      <td>LOWER MERION</td>\n",
       "      <td>LANCASTER AVE &amp; RITTENHOUSE PL</td>\n",
       "      <td>1</td>\n",
       "      <td>Traffic: VEHICLE ACCIDENT -</td>\n",
       "      <td>Traffic</td>\n",
       "    </tr>\n",
       "    <tr>\n",
       "      <th>99489</th>\n",
       "      <td>40.115429</td>\n",
       "      <td>-75.334679</td>\n",
       "      <td>CHESTNUT ST &amp; WALNUT ST;  NORRISTOWN; Station ...</td>\n",
       "      <td>19401.0</td>\n",
       "      <td>EMS: FALL VICTIM</td>\n",
       "      <td>2016-08-24 11:12:00</td>\n",
       "      <td>NORRISTOWN</td>\n",
       "      <td>CHESTNUT ST &amp; WALNUT ST</td>\n",
       "      <td>1</td>\n",
       "      <td>EMS: FALL VICTIM</td>\n",
       "      <td>EMS</td>\n",
       "    </tr>\n",
       "    <tr>\n",
       "      <th>99490</th>\n",
       "      <td>40.186431</td>\n",
       "      <td>-75.192555</td>\n",
       "      <td>WELSH RD &amp; WEBSTER LN;  HORSHAM; Station 352; ...</td>\n",
       "      <td>19002.0</td>\n",
       "      <td>EMS: NAUSEA/VOMITING</td>\n",
       "      <td>2016-08-24 11:17:01</td>\n",
       "      <td>HORSHAM</td>\n",
       "      <td>WELSH RD &amp; WEBSTER LN</td>\n",
       "      <td>1</td>\n",
       "      <td>EMS: NAUSEA/VOMITING</td>\n",
       "      <td>EMS</td>\n",
       "    </tr>\n",
       "    <tr>\n",
       "      <th>99491</th>\n",
       "      <td>40.207055</td>\n",
       "      <td>-75.317952</td>\n",
       "      <td>MORRIS RD &amp; S BROAD ST; UPPER GWYNEDD; 2016-08...</td>\n",
       "      <td>19446.0</td>\n",
       "      <td>Traffic: VEHICLE ACCIDENT -</td>\n",
       "      <td>2016-08-24 11:17:02</td>\n",
       "      <td>UPPER GWYNEDD</td>\n",
       "      <td>MORRIS RD &amp; S BROAD ST</td>\n",
       "      <td>1</td>\n",
       "      <td>Traffic: VEHICLE ACCIDENT -</td>\n",
       "      <td>Traffic</td>\n",
       "    </tr>\n",
       "  </tbody>\n",
       "</table>\n",
       "<p>99492 rows × 11 columns</p>\n",
       "</div>"
      ],
      "text/plain": [
       "             lat        lng  \\\n",
       "0      40.297876 -75.581294   \n",
       "1      40.258061 -75.264680   \n",
       "2      40.121182 -75.351975   \n",
       "3      40.116153 -75.343513   \n",
       "4      40.251492 -75.603350   \n",
       "...          ...        ...   \n",
       "99487  40.132869 -75.333515   \n",
       "99488  40.006974 -75.289080   \n",
       "99489  40.115429 -75.334679   \n",
       "99490  40.186431 -75.192555   \n",
       "99491  40.207055 -75.317952   \n",
       "\n",
       "                                                    desc      zip  \\\n",
       "0      REINDEER CT & DEAD END;  NEW HANOVER; Station ...  19525.0   \n",
       "1      BRIAR PATH & WHITEMARSH LN;  HATFIELD TOWNSHIP...  19446.0   \n",
       "2      HAWS AVE; NORRISTOWN; 2015-12-10 @ 14:39:21-St...  19401.0   \n",
       "3      AIRY ST & SWEDE ST;  NORRISTOWN; Station 308A;...  19401.0   \n",
       "4      CHERRYWOOD CT & DEAD END;  LOWER POTTSGROVE; S...      NaN   \n",
       "...                                                  ...      ...   \n",
       "99487  MARKLEY ST & W LOGAN ST; NORRISTOWN; 2016-08-2...  19401.0   \n",
       "99488  LANCASTER AVE & RITTENHOUSE PL; LOWER MERION; ...  19003.0   \n",
       "99489  CHESTNUT ST & WALNUT ST;  NORRISTOWN; Station ...  19401.0   \n",
       "99490  WELSH RD & WEBSTER LN;  HORSHAM; Station 352; ...  19002.0   \n",
       "99491  MORRIS RD & S BROAD ST; UPPER GWYNEDD; 2016-08...  19446.0   \n",
       "\n",
       "                             title            timeStamp                twp  \\\n",
       "0           EMS: BACK PAINS/INJURY  2015-12-10 17:40:00        NEW HANOVER   \n",
       "1          EMS: DIABETIC EMERGENCY  2015-12-10 17:40:00  HATFIELD TOWNSHIP   \n",
       "2              Fire: GAS-ODOR/LEAK  2015-12-10 17:40:00         NORRISTOWN   \n",
       "3           EMS: CARDIAC EMERGENCY  2015-12-10 17:40:01         NORRISTOWN   \n",
       "4                   EMS: DIZZINESS  2015-12-10 17:40:01   LOWER POTTSGROVE   \n",
       "...                            ...                  ...                ...   \n",
       "99487  Traffic: VEHICLE ACCIDENT -  2016-08-24 11:06:00         NORRISTOWN   \n",
       "99488  Traffic: VEHICLE ACCIDENT -  2016-08-24 11:07:02       LOWER MERION   \n",
       "99489             EMS: FALL VICTIM  2016-08-24 11:12:00         NORRISTOWN   \n",
       "99490         EMS: NAUSEA/VOMITING  2016-08-24 11:17:01            HORSHAM   \n",
       "99491  Traffic: VEHICLE ACCIDENT -  2016-08-24 11:17:02      UPPER GWYNEDD   \n",
       "\n",
       "                                 addr  e                       reason   Reason  \n",
       "0              REINDEER CT & DEAD END  1       EMS: BACK PAINS/INJURY      EMS  \n",
       "1          BRIAR PATH & WHITEMARSH LN  1      EMS: DIABETIC EMERGENCY      EMS  \n",
       "2                            HAWS AVE  1          Fire: GAS-ODOR/LEAK     Fire  \n",
       "3                  AIRY ST & SWEDE ST  1       EMS: CARDIAC EMERGENCY      EMS  \n",
       "4            CHERRYWOOD CT & DEAD END  1               EMS: DIZZINESS      EMS  \n",
       "...                               ... ..                          ...      ...  \n",
       "99487         MARKLEY ST & W LOGAN ST  1  Traffic: VEHICLE ACCIDENT -  Traffic  \n",
       "99488  LANCASTER AVE & RITTENHOUSE PL  1  Traffic: VEHICLE ACCIDENT -  Traffic  \n",
       "99489         CHESTNUT ST & WALNUT ST  1             EMS: FALL VICTIM      EMS  \n",
       "99490           WELSH RD & WEBSTER LN  1         EMS: NAUSEA/VOMITING      EMS  \n",
       "99491          MORRIS RD & S BROAD ST  1  Traffic: VEHICLE ACCIDENT -  Traffic  \n",
       "\n",
       "[99492 rows x 11 columns]"
      ]
     },
     "execution_count": 28,
     "metadata": {},
     "output_type": "execute_result"
    }
   ],
   "source": [
    "calls['Reason'] = calls.title.apply(lambda title: title.split(':')[0])\n",
    "calls"
   ]
  },
  {
   "cell_type": "code",
   "execution_count": 29,
   "metadata": {},
   "outputs": [
    {
     "data": {
      "text/plain": [
       "array(['EMS', 'Fire', 'Traffic'], dtype=object)"
      ]
     },
     "execution_count": 29,
     "metadata": {},
     "output_type": "execute_result"
    }
   ],
   "source": [
    "calls.Reason.unique()"
   ]
  },
  {
   "cell_type": "code",
   "execution_count": 30,
   "metadata": {},
   "outputs": [
    {
     "data": {
      "text/plain": [
       "3"
      ]
     },
     "execution_count": 30,
     "metadata": {},
     "output_type": "execute_result"
    }
   ],
   "source": [
    "calls.Reason.nunique()"
   ]
  },
  {
   "cell_type": "markdown",
   "metadata": {},
   "source": [
    "### Qual é a razão mais comum para uma chamada do 911 com base nessa nova coluna?"
   ]
  },
  {
   "cell_type": "code",
   "execution_count": 31,
   "metadata": {},
   "outputs": [
    {
     "data": {
      "text/plain": [
       "EMS        48877\n",
       "Traffic    35695\n",
       "Fire       14920\n",
       "Name: Reason, dtype: int64"
      ]
     },
     "execution_count": 31,
     "metadata": {},
     "output_type": "execute_result"
    }
   ],
   "source": [
    "calls.Reason.value_counts()"
   ]
  },
  {
   "cell_type": "code",
   "execution_count": 35,
   "metadata": {},
   "outputs": [
    {
     "data": {
      "text/plain": [
       "<AxesSubplot:ylabel='Reason'>"
      ]
     },
     "execution_count": 35,
     "metadata": {},
     "output_type": "execute_result"
    },
    {
     "data": {
      "image/png": "[encoded data removed]",
      "text/plain": [
       "<Figure size 432x288 with 1 Axes>"
      ]
     },
     "metadata": {},
     "output_type": "display_data"
    }
   ],
   "source": [
    "calls.Reason.value_counts().plot(kind='pie', autopct='%.2f%%')"
   ]
  },
  {
   "cell_type": "markdown",
   "metadata": {},
   "source": [
    "### Qual é o tipo de dados dos objetos na coluna *timeStamp*?"
   ]
  },
  {
   "cell_type": "code",
   "execution_count": 36,
   "metadata": {},
   "outputs": [
    {
     "data": {
      "text/plain": [
       "str"
      ]
     },
     "execution_count": 36,
     "metadata": {},
     "output_type": "execute_result"
    }
   ],
   "source": [
    "type(calls['timeStamp'][0])"
   ]
  },
  {
   "cell_type": "code",
   "execution_count": null,
   "metadata": {},
   "outputs": [],
   "source": []
  },
  {
   "cell_type": "markdown",
   "metadata": {},
   "source": [
    "### Converta a coluna _timeStamp_ para DateTime"
   ]
  },
  {
   "cell_type": "code",
   "execution_count": 40,
   "metadata": {},
   "outputs": [],
   "source": [
    "calls['timeStamp'] = pd.to_datetime(calls['timeStamp'])"
   ]
  },
  {
   "cell_type": "code",
   "execution_count": 41,
   "metadata": {},
   "outputs": [
    {
     "data": {
      "text/plain": [
       "pandas._libs.tslibs.timestamps.Timestamp"
      ]
     },
     "execution_count": 41,
     "metadata": {},
     "output_type": "execute_result"
    }
   ],
   "source": [
    "type(calls['timeStamp'][0])"
   ]
  },
  {
   "cell_type": "markdown",
   "metadata": {},
   "source": [
    "### Crie 3 novas colunas chamadas _Hour, Month e Day of Week_. Você criará essas colunas com base na coluna timeStamp"
   ]
  },
  {
   "cell_type": "code",
   "execution_count": 43,
   "metadata": {},
   "outputs": [
    {
     "data": {
      "text/html": [
       "<div>\n",
       "<style scoped>\n",
       "    .dataframe tbody tr th:only-of-type {\n",
       "        vertical-align: middle;\n",
       "    }\n",
       "\n",
       "    .dataframe tbody tr th {\n",
       "        vertical-align: top;\n",
       "    }\n",
       "\n",
       "    .dataframe thead th {\n",
       "        text-align: right;\n",
       "    }\n",
       "</style>\n",
       "<table border=\"1\" class=\"dataframe\">\n",
       "  <thead>\n",
       "    <tr style=\"text-align: right;\">\n",
       "      <th></th>\n",
       "      <th>lat</th>\n",
       "      <th>lng</th>\n",
       "      <th>desc</th>\n",
       "      <th>zip</th>\n",
       "      <th>title</th>\n",
       "      <th>timeStamp</th>\n",
       "      <th>twp</th>\n",
       "      <th>addr</th>\n",
       "      <th>e</th>\n",
       "      <th>reason</th>\n",
       "      <th>Reason</th>\n",
       "      <th>Hour</th>\n",
       "      <th>Month</th>\n",
       "      <th>Day of Week</th>\n",
       "    </tr>\n",
       "  </thead>\n",
       "  <tbody>\n",
       "    <tr>\n",
       "      <th>0</th>\n",
       "      <td>40.297876</td>\n",
       "      <td>-75.581294</td>\n",
       "      <td>REINDEER CT &amp; DEAD END;  NEW HANOVER; Station ...</td>\n",
       "      <td>19525.0</td>\n",
       "      <td>EMS: BACK PAINS/INJURY</td>\n",
       "      <td>2015-12-10 17:40:00</td>\n",
       "      <td>NEW HANOVER</td>\n",
       "      <td>REINDEER CT &amp; DEAD END</td>\n",
       "      <td>1</td>\n",
       "      <td>EMS: BACK PAINS/INJURY</td>\n",
       "      <td>EMS</td>\n",
       "      <td>17</td>\n",
       "      <td>12</td>\n",
       "      <td>3</td>\n",
       "    </tr>\n",
       "    <tr>\n",
       "      <th>1</th>\n",
       "      <td>40.258061</td>\n",
       "      <td>-75.264680</td>\n",
       "      <td>BRIAR PATH &amp; WHITEMARSH LN;  HATFIELD TOWNSHIP...</td>\n",
       "      <td>19446.0</td>\n",
       "      <td>EMS: DIABETIC EMERGENCY</td>\n",
       "      <td>2015-12-10 17:40:00</td>\n",
       "      <td>HATFIELD TOWNSHIP</td>\n",
       "      <td>BRIAR PATH &amp; WHITEMARSH LN</td>\n",
       "      <td>1</td>\n",
       "      <td>EMS: DIABETIC EMERGENCY</td>\n",
       "      <td>EMS</td>\n",
       "      <td>17</td>\n",
       "      <td>12</td>\n",
       "      <td>3</td>\n",
       "    </tr>\n",
       "    <tr>\n",
       "      <th>2</th>\n",
       "      <td>40.121182</td>\n",
       "      <td>-75.351975</td>\n",
       "      <td>HAWS AVE; NORRISTOWN; 2015-12-10 @ 14:39:21-St...</td>\n",
       "      <td>19401.0</td>\n",
       "      <td>Fire: GAS-ODOR/LEAK</td>\n",
       "      <td>2015-12-10 17:40:00</td>\n",
       "      <td>NORRISTOWN</td>\n",
       "      <td>HAWS AVE</td>\n",
       "      <td>1</td>\n",
       "      <td>Fire: GAS-ODOR/LEAK</td>\n",
       "      <td>Fire</td>\n",
       "      <td>17</td>\n",
       "      <td>12</td>\n",
       "      <td>3</td>\n",
       "    </tr>\n",
       "    <tr>\n",
       "      <th>3</th>\n",
       "      <td>40.116153</td>\n",
       "      <td>-75.343513</td>\n",
       "      <td>AIRY ST &amp; SWEDE ST;  NORRISTOWN; Station 308A;...</td>\n",
       "      <td>19401.0</td>\n",
       "      <td>EMS: CARDIAC EMERGENCY</td>\n",
       "      <td>2015-12-10 17:40:01</td>\n",
       "      <td>NORRISTOWN</td>\n",
       "      <td>AIRY ST &amp; SWEDE ST</td>\n",
       "      <td>1</td>\n",
       "      <td>EMS: CARDIAC EMERGENCY</td>\n",
       "      <td>EMS</td>\n",
       "      <td>17</td>\n",
       "      <td>12</td>\n",
       "      <td>3</td>\n",
       "    </tr>\n",
       "    <tr>\n",
       "      <th>4</th>\n",
       "      <td>40.251492</td>\n",
       "      <td>-75.603350</td>\n",
       "      <td>CHERRYWOOD CT &amp; DEAD END;  LOWER POTTSGROVE; S...</td>\n",
       "      <td>NaN</td>\n",
       "      <td>EMS: DIZZINESS</td>\n",
       "      <td>2015-12-10 17:40:01</td>\n",
       "      <td>LOWER POTTSGROVE</td>\n",
       "      <td>CHERRYWOOD CT &amp; DEAD END</td>\n",
       "      <td>1</td>\n",
       "      <td>EMS: DIZZINESS</td>\n",
       "      <td>EMS</td>\n",
       "      <td>17</td>\n",
       "      <td>12</td>\n",
       "      <td>3</td>\n",
       "    </tr>\n",
       "  </tbody>\n",
       "</table>\n",
       "</div>"
      ],
      "text/plain": [
       "         lat        lng                                               desc  \\\n",
       "0  40.297876 -75.581294  REINDEER CT & DEAD END;  NEW HANOVER; Station ...   \n",
       "1  40.258061 -75.264680  BRIAR PATH & WHITEMARSH LN;  HATFIELD TOWNSHIP...   \n",
       "2  40.121182 -75.351975  HAWS AVE; NORRISTOWN; 2015-12-10 @ 14:39:21-St...   \n",
       "3  40.116153 -75.343513  AIRY ST & SWEDE ST;  NORRISTOWN; Station 308A;...   \n",
       "4  40.251492 -75.603350  CHERRYWOOD CT & DEAD END;  LOWER POTTSGROVE; S...   \n",
       "\n",
       "       zip                    title           timeStamp                twp  \\\n",
       "0  19525.0   EMS: BACK PAINS/INJURY 2015-12-10 17:40:00        NEW HANOVER   \n",
       "1  19446.0  EMS: DIABETIC EMERGENCY 2015-12-10 17:40:00  HATFIELD TOWNSHIP   \n",
       "2  19401.0      Fire: GAS-ODOR/LEAK 2015-12-10 17:40:00         NORRISTOWN   \n",
       "3  19401.0   EMS: CARDIAC EMERGENCY 2015-12-10 17:40:01         NORRISTOWN   \n",
       "4      NaN           EMS: DIZZINESS 2015-12-10 17:40:01   LOWER POTTSGROVE   \n",
       "\n",
       "                         addr  e                   reason Reason  Hour  Month  \\\n",
       "0      REINDEER CT & DEAD END  1   EMS: BACK PAINS/INJURY    EMS    17     12   \n",
       "1  BRIAR PATH & WHITEMARSH LN  1  EMS: DIABETIC EMERGENCY    EMS    17     12   \n",
       "2                    HAWS AVE  1      Fire: GAS-ODOR/LEAK   Fire    17     12   \n",
       "3          AIRY ST & SWEDE ST  1   EMS: CARDIAC EMERGENCY    EMS    17     12   \n",
       "4    CHERRYWOOD CT & DEAD END  1           EMS: DIZZINESS    EMS    17     12   \n",
       "\n",
       "   Day of Week  \n",
       "0            3  \n",
       "1            3  \n",
       "2            3  \n",
       "3            3  \n",
       "4            3  "
      ]
     },
     "execution_count": 43,
     "metadata": {},
     "output_type": "execute_result"
    }
   ],
   "source": [
    "calls['Hour'] = calls['timeStamp'].apply(lambda time: time.hour)\n",
    "calls['Month'] = calls['timeStamp'].apply(lambda time: time.month)\n",
    "calls['Day of Week'] = calls['timeStamp'].apply(lambda time: time.dayofweek)\n",
    "calls.head()"
   ]
  },
  {
   "cell_type": "code",
   "execution_count": null,
   "metadata": {},
   "outputs": [],
   "source": []
  },
  {
   "cell_type": "markdown",
   "metadata": {},
   "source": [
    "### Observe como o dia da demana é um número inteiro de 0-6. Mapeie os nomes das seqüências reais para o dia da semana, nessa mesma coluna:\n",
    "\n",
    "- 0 => Mon\n",
    "- 1 => Tue\n",
    "- 2 => Wed\n",
    "- 3 => Thu\n",
    "- 4 => Fri\n",
    "- 5 => Sat\n",
    "- 6 => Sun"
   ]
  },
  {
   "cell_type": "code",
   "execution_count": 44,
   "metadata": {},
   "outputs": [
    {
     "data": {
      "text/plain": [
       "0        Thu\n",
       "1        Thu\n",
       "2        Thu\n",
       "3        Thu\n",
       "4        Thu\n",
       "        ... \n",
       "99487    Wed\n",
       "99488    Wed\n",
       "99489    Wed\n",
       "99490    Wed\n",
       "99491    Wed\n",
       "Name: Day of Week, Length: 99492, dtype: object"
      ]
     },
     "execution_count": 44,
     "metadata": {},
     "output_type": "execute_result"
    }
   ],
   "source": [
    "calls['Day of Week'].replace([0, 1, 2, 3, 4, 5, 6], ['Mon', 'Tue', 'Wed', 'Thu', 'Fri', 'Sat', 'Sun'])"
   ]
  },
  {
   "cell_type": "code",
   "execution_count": 48,
   "metadata": {},
   "outputs": [
    {
     "data": {
      "text/html": [
       "<div>\n",
       "<style scoped>\n",
       "    .dataframe tbody tr th:only-of-type {\n",
       "        vertical-align: middle;\n",
       "    }\n",
       "\n",
       "    .dataframe tbody tr th {\n",
       "        vertical-align: top;\n",
       "    }\n",
       "\n",
       "    .dataframe thead th {\n",
       "        text-align: right;\n",
       "    }\n",
       "</style>\n",
       "<table border=\"1\" class=\"dataframe\">\n",
       "  <thead>\n",
       "    <tr style=\"text-align: right;\">\n",
       "      <th></th>\n",
       "      <th>lat</th>\n",
       "      <th>lng</th>\n",
       "      <th>desc</th>\n",
       "      <th>zip</th>\n",
       "      <th>title</th>\n",
       "      <th>timeStamp</th>\n",
       "      <th>twp</th>\n",
       "      <th>addr</th>\n",
       "      <th>e</th>\n",
       "      <th>reason</th>\n",
       "      <th>Reason</th>\n",
       "      <th>Hour</th>\n",
       "      <th>Month</th>\n",
       "      <th>Day of Week</th>\n",
       "    </tr>\n",
       "  </thead>\n",
       "  <tbody>\n",
       "    <tr>\n",
       "      <th>0</th>\n",
       "      <td>40.297876</td>\n",
       "      <td>-75.581294</td>\n",
       "      <td>REINDEER CT &amp; DEAD END;  NEW HANOVER; Station ...</td>\n",
       "      <td>19525.0</td>\n",
       "      <td>EMS: BACK PAINS/INJURY</td>\n",
       "      <td>2015-12-10 17:40:00</td>\n",
       "      <td>NEW HANOVER</td>\n",
       "      <td>REINDEER CT &amp; DEAD END</td>\n",
       "      <td>1</td>\n",
       "      <td>EMS: BACK PAINS/INJURY</td>\n",
       "      <td>EMS</td>\n",
       "      <td>17</td>\n",
       "      <td>12</td>\n",
       "      <td>Thu</td>\n",
       "    </tr>\n",
       "    <tr>\n",
       "      <th>1</th>\n",
       "      <td>40.258061</td>\n",
       "      <td>-75.264680</td>\n",
       "      <td>BRIAR PATH &amp; WHITEMARSH LN;  HATFIELD TOWNSHIP...</td>\n",
       "      <td>19446.0</td>\n",
       "      <td>EMS: DIABETIC EMERGENCY</td>\n",
       "      <td>2015-12-10 17:40:00</td>\n",
       "      <td>HATFIELD TOWNSHIP</td>\n",
       "      <td>BRIAR PATH &amp; WHITEMARSH LN</td>\n",
       "      <td>1</td>\n",
       "      <td>EMS: DIABETIC EMERGENCY</td>\n",
       "      <td>EMS</td>\n",
       "      <td>17</td>\n",
       "      <td>12</td>\n",
       "      <td>Thu</td>\n",
       "    </tr>\n",
       "    <tr>\n",
       "      <th>2</th>\n",
       "      <td>40.121182</td>\n",
       "      <td>-75.351975</td>\n",
       "      <td>HAWS AVE; NORRISTOWN; 2015-12-10 @ 14:39:21-St...</td>\n",
       "      <td>19401.0</td>\n",
       "      <td>Fire: GAS-ODOR/LEAK</td>\n",
       "      <td>2015-12-10 17:40:00</td>\n",
       "      <td>NORRISTOWN</td>\n",
       "      <td>HAWS AVE</td>\n",
       "      <td>1</td>\n",
       "      <td>Fire: GAS-ODOR/LEAK</td>\n",
       "      <td>Fire</td>\n",
       "      <td>17</td>\n",
       "      <td>12</td>\n",
       "      <td>Thu</td>\n",
       "    </tr>\n",
       "    <tr>\n",
       "      <th>3</th>\n",
       "      <td>40.116153</td>\n",
       "      <td>-75.343513</td>\n",
       "      <td>AIRY ST &amp; SWEDE ST;  NORRISTOWN; Station 308A;...</td>\n",
       "      <td>19401.0</td>\n",
       "      <td>EMS: CARDIAC EMERGENCY</td>\n",
       "      <td>2015-12-10 17:40:01</td>\n",
       "      <td>NORRISTOWN</td>\n",
       "      <td>AIRY ST &amp; SWEDE ST</td>\n",
       "      <td>1</td>\n",
       "      <td>EMS: CARDIAC EMERGENCY</td>\n",
       "      <td>EMS</td>\n",
       "      <td>17</td>\n",
       "      <td>12</td>\n",
       "      <td>Thu</td>\n",
       "    </tr>\n",
       "    <tr>\n",
       "      <th>4</th>\n",
       "      <td>40.251492</td>\n",
       "      <td>-75.603350</td>\n",
       "      <td>CHERRYWOOD CT &amp; DEAD END;  LOWER POTTSGROVE; S...</td>\n",
       "      <td>NaN</td>\n",
       "      <td>EMS: DIZZINESS</td>\n",
       "      <td>2015-12-10 17:40:01</td>\n",
       "      <td>LOWER POTTSGROVE</td>\n",
       "      <td>CHERRYWOOD CT &amp; DEAD END</td>\n",
       "      <td>1</td>\n",
       "      <td>EMS: DIZZINESS</td>\n",
       "      <td>EMS</td>\n",
       "      <td>17</td>\n",
       "      <td>12</td>\n",
       "      <td>Thu</td>\n",
       "    </tr>\n",
       "  </tbody>\n",
       "</table>\n",
       "</div>"
      ],
      "text/plain": [
       "         lat        lng                                               desc  \\\n",
       "0  40.297876 -75.581294  REINDEER CT & DEAD END;  NEW HANOVER; Station ...   \n",
       "1  40.258061 -75.264680  BRIAR PATH & WHITEMARSH LN;  HATFIELD TOWNSHIP...   \n",
       "2  40.121182 -75.351975  HAWS AVE; NORRISTOWN; 2015-12-10 @ 14:39:21-St...   \n",
       "3  40.116153 -75.343513  AIRY ST & SWEDE ST;  NORRISTOWN; Station 308A;...   \n",
       "4  40.251492 -75.603350  CHERRYWOOD CT & DEAD END;  LOWER POTTSGROVE; S...   \n",
       "\n",
       "       zip                    title           timeStamp                twp  \\\n",
       "0  19525.0   EMS: BACK PAINS/INJURY 2015-12-10 17:40:00        NEW HANOVER   \n",
       "1  19446.0  EMS: DIABETIC EMERGENCY 2015-12-10 17:40:00  HATFIELD TOWNSHIP   \n",
       "2  19401.0      Fire: GAS-ODOR/LEAK 2015-12-10 17:40:00         NORRISTOWN   \n",
       "3  19401.0   EMS: CARDIAC EMERGENCY 2015-12-10 17:40:01         NORRISTOWN   \n",
       "4      NaN           EMS: DIZZINESS 2015-12-10 17:40:01   LOWER POTTSGROVE   \n",
       "\n",
       "                         addr  e                   reason Reason  Hour  Month  \\\n",
       "0      REINDEER CT & DEAD END  1   EMS: BACK PAINS/INJURY    EMS    17     12   \n",
       "1  BRIAR PATH & WHITEMARSH LN  1  EMS: DIABETIC EMERGENCY    EMS    17     12   \n",
       "2                    HAWS AVE  1      Fire: GAS-ODOR/LEAK   Fire    17     12   \n",
       "3          AIRY ST & SWEDE ST  1   EMS: CARDIAC EMERGENCY    EMS    17     12   \n",
       "4    CHERRYWOOD CT & DEAD END  1           EMS: DIZZINESS    EMS    17     12   \n",
       "\n",
       "  Day of Week  \n",
       "0         Thu  \n",
       "1         Thu  \n",
       "2         Thu  \n",
       "3         Thu  \n",
       "4         Thu  "
      ]
     },
     "execution_count": 48,
     "metadata": {},
     "output_type": "execute_result"
    }
   ],
   "source": [
    "calls['Day of Week'] = calls['Day of Week'].map({0:'Mon', 1:'Tue', 2:'Wed', 3:'Thu', 4:'Fri', 5:'Sat', 6:'Sun'})\n",
    "calls.head()"
   ]
  },
  {
   "cell_type": "markdown",
   "metadata": {},
   "source": [
    "### Qual a quantidade de chamadas de cada motivo (*Reason*) por mês?"
   ]
  },
  {
   "cell_type": "code",
   "execution_count": 52,
   "metadata": {},
   "outputs": [
    {
     "data": {
      "text/plain": [
       "MultiIndex([( 1,     'EMS'),\n",
       "            ( 1,    'Fire'),\n",
       "            ( 1, 'Traffic'),\n",
       "            ( 2,     'EMS'),\n",
       "            ( 2,    'Fire'),\n",
       "            ( 2, 'Traffic'),\n",
       "            ( 3,     'EMS'),\n",
       "            ( 3,    'Fire'),\n",
       "            ( 3, 'Traffic'),\n",
       "            ( 4,     'EMS'),\n",
       "            ( 4,    'Fire'),\n",
       "            ( 4, 'Traffic'),\n",
       "            ( 5,     'EMS'),\n",
       "            ( 5,    'Fire'),\n",
       "            ( 5, 'Traffic'),\n",
       "            ( 6,     'EMS'),\n",
       "            ( 6,    'Fire'),\n",
       "            ( 6, 'Traffic'),\n",
       "            ( 7,     'EMS'),\n",
       "            ( 7,    'Fire'),\n",
       "            ( 7, 'Traffic'),\n",
       "            ( 8,     'EMS'),\n",
       "            ( 8,    'Fire'),\n",
       "            ( 8, 'Traffic'),\n",
       "            (12,     'EMS'),\n",
       "            (12,    'Fire'),\n",
       "            (12, 'Traffic')],\n",
       "           names=['Month', 'Reason'])"
      ]
     },
     "execution_count": 52,
     "metadata": {},
     "output_type": "execute_result"
    }
   ],
   "source": [
    "gb = calls.groupby(['Month', 'Reason'])\n",
    "df = gb.size()\n",
    "df.index"
   ]
  },
  {
   "cell_type": "code",
   "execution_count": 53,
   "metadata": {},
   "outputs": [
    {
     "data": {
      "text/plain": [
       "Month  Reason \n",
       "1      EMS        6063\n",
       "       Fire       1905\n",
       "       Traffic    5237\n",
       "2      EMS        5413\n",
       "       Fire       1869\n",
       "       Traffic    4185\n",
       "3      EMS        5832\n",
       "       Fire       1590\n",
       "       Traffic    3679\n",
       "4      EMS        5680\n",
       "       Fire       1717\n",
       "       Traffic    3929\n",
       "5      EMS        5734\n",
       "       Fire       1573\n",
       "       Traffic    4116\n",
       "6      EMS        5720\n",
       "       Fire       1796\n",
       "       Traffic    4270\n",
       "7      EMS        6029\n",
       "       Fire       1901\n",
       "       Traffic    4207\n",
       "8      EMS        4508\n",
       "       Fire       1473\n",
       "       Traffic    3097\n",
       "12     EMS        3898\n",
       "       Fire       1096\n",
       "       Traffic    2975\n",
       "dtype: int64"
      ]
     },
     "execution_count": 53,
     "metadata": {},
     "output_type": "execute_result"
    }
   ],
   "source": [
    "df"
   ]
  },
  {
   "cell_type": "code",
   "execution_count": 54,
   "metadata": {},
   "outputs": [
    {
     "data": {
      "text/html": [
       "<div>\n",
       "<style scoped>\n",
       "    .dataframe tbody tr th:only-of-type {\n",
       "        vertical-align: middle;\n",
       "    }\n",
       "\n",
       "    .dataframe tbody tr th {\n",
       "        vertical-align: top;\n",
       "    }\n",
       "\n",
       "    .dataframe thead th {\n",
       "        text-align: right;\n",
       "    }\n",
       "</style>\n",
       "<table border=\"1\" class=\"dataframe\">\n",
       "  <thead>\n",
       "    <tr style=\"text-align: right;\">\n",
       "      <th>Reason</th>\n",
       "      <th>EMS</th>\n",
       "      <th>Fire</th>\n",
       "      <th>Traffic</th>\n",
       "    </tr>\n",
       "    <tr>\n",
       "      <th>Month</th>\n",
       "      <th></th>\n",
       "      <th></th>\n",
       "      <th></th>\n",
       "    </tr>\n",
       "  </thead>\n",
       "  <tbody>\n",
       "    <tr>\n",
       "      <th>1</th>\n",
       "      <td>6063</td>\n",
       "      <td>1905</td>\n",
       "      <td>5237</td>\n",
       "    </tr>\n",
       "    <tr>\n",
       "      <th>2</th>\n",
       "      <td>5413</td>\n",
       "      <td>1869</td>\n",
       "      <td>4185</td>\n",
       "    </tr>\n",
       "    <tr>\n",
       "      <th>3</th>\n",
       "      <td>5832</td>\n",
       "      <td>1590</td>\n",
       "      <td>3679</td>\n",
       "    </tr>\n",
       "    <tr>\n",
       "      <th>4</th>\n",
       "      <td>5680</td>\n",
       "      <td>1717</td>\n",
       "      <td>3929</td>\n",
       "    </tr>\n",
       "    <tr>\n",
       "      <th>5</th>\n",
       "      <td>5734</td>\n",
       "      <td>1573</td>\n",
       "      <td>4116</td>\n",
       "    </tr>\n",
       "    <tr>\n",
       "      <th>6</th>\n",
       "      <td>5720</td>\n",
       "      <td>1796</td>\n",
       "      <td>4270</td>\n",
       "    </tr>\n",
       "    <tr>\n",
       "      <th>7</th>\n",
       "      <td>6029</td>\n",
       "      <td>1901</td>\n",
       "      <td>4207</td>\n",
       "    </tr>\n",
       "    <tr>\n",
       "      <th>8</th>\n",
       "      <td>4508</td>\n",
       "      <td>1473</td>\n",
       "      <td>3097</td>\n",
       "    </tr>\n",
       "    <tr>\n",
       "      <th>12</th>\n",
       "      <td>3898</td>\n",
       "      <td>1096</td>\n",
       "      <td>2975</td>\n",
       "    </tr>\n",
       "  </tbody>\n",
       "</table>\n",
       "</div>"
      ],
      "text/plain": [
       "Reason   EMS  Fire  Traffic\n",
       "Month                      \n",
       "1       6063  1905     5237\n",
       "2       5413  1869     4185\n",
       "3       5832  1590     3679\n",
       "4       5680  1717     3929\n",
       "5       5734  1573     4116\n",
       "6       5720  1796     4270\n",
       "7       6029  1901     4207\n",
       "8       4508  1473     3097\n",
       "12      3898  1096     2975"
      ]
     },
     "execution_count": 54,
     "metadata": {},
     "output_type": "execute_result"
    }
   ],
   "source": [
    "df.unstack()"
   ]
  },
  {
   "cell_type": "code",
   "execution_count": 56,
   "metadata": {},
   "outputs": [
    {
     "data": {
      "text/html": [
       "<div>\n",
       "<style scoped>\n",
       "    .dataframe tbody tr th:only-of-type {\n",
       "        vertical-align: middle;\n",
       "    }\n",
       "\n",
       "    .dataframe tbody tr th {\n",
       "        vertical-align: top;\n",
       "    }\n",
       "\n",
       "    .dataframe thead th {\n",
       "        text-align: right;\n",
       "    }\n",
       "</style>\n",
       "<table border=\"1\" class=\"dataframe\">\n",
       "  <thead>\n",
       "    <tr style=\"text-align: right;\">\n",
       "      <th>Month</th>\n",
       "      <th>1</th>\n",
       "      <th>2</th>\n",
       "      <th>3</th>\n",
       "      <th>4</th>\n",
       "      <th>5</th>\n",
       "      <th>6</th>\n",
       "      <th>7</th>\n",
       "      <th>8</th>\n",
       "      <th>12</th>\n",
       "    </tr>\n",
       "    <tr>\n",
       "      <th>Reason</th>\n",
       "      <th></th>\n",
       "      <th></th>\n",
       "      <th></th>\n",
       "      <th></th>\n",
       "      <th></th>\n",
       "      <th></th>\n",
       "      <th></th>\n",
       "      <th></th>\n",
       "      <th></th>\n",
       "    </tr>\n",
       "  </thead>\n",
       "  <tbody>\n",
       "    <tr>\n",
       "      <th>EMS</th>\n",
       "      <td>6063</td>\n",
       "      <td>5413</td>\n",
       "      <td>5832</td>\n",
       "      <td>5680</td>\n",
       "      <td>5734</td>\n",
       "      <td>5720</td>\n",
       "      <td>6029</td>\n",
       "      <td>4508</td>\n",
       "      <td>3898</td>\n",
       "    </tr>\n",
       "    <tr>\n",
       "      <th>Fire</th>\n",
       "      <td>1905</td>\n",
       "      <td>1869</td>\n",
       "      <td>1590</td>\n",
       "      <td>1717</td>\n",
       "      <td>1573</td>\n",
       "      <td>1796</td>\n",
       "      <td>1901</td>\n",
       "      <td>1473</td>\n",
       "      <td>1096</td>\n",
       "    </tr>\n",
       "    <tr>\n",
       "      <th>Traffic</th>\n",
       "      <td>5237</td>\n",
       "      <td>4185</td>\n",
       "      <td>3679</td>\n",
       "      <td>3929</td>\n",
       "      <td>4116</td>\n",
       "      <td>4270</td>\n",
       "      <td>4207</td>\n",
       "      <td>3097</td>\n",
       "      <td>2975</td>\n",
       "    </tr>\n",
       "  </tbody>\n",
       "</table>\n",
       "</div>"
      ],
      "text/plain": [
       "Month      1     2     3     4     5     6     7     8     12\n",
       "Reason                                                       \n",
       "EMS      6063  5413  5832  5680  5734  5720  6029  4508  3898\n",
       "Fire     1905  1869  1590  1717  1573  1796  1901  1473  1096\n",
       "Traffic  5237  4185  3679  3929  4116  4270  4207  3097  2975"
      ]
     },
     "execution_count": 56,
     "metadata": {},
     "output_type": "execute_result"
    }
   ],
   "source": [
    "df.unstack(level=0)"
   ]
  },
  {
   "cell_type": "code",
   "execution_count": 57,
   "metadata": {},
   "outputs": [
    {
     "data": {
      "text/plain": [
       "<AxesSubplot:xlabel='Month'>"
      ]
     },
     "execution_count": 57,
     "metadata": {},
     "output_type": "execute_result"
    },
    {
     "data": {
      "image/png": "[encoded data removed]",
      "text/plain": [
       "<Figure size 432x288 with 1 Axes>"
      ]
     },
     "metadata": {
      "needs_background": "light"
     },
     "output_type": "display_data"
    }
   ],
   "source": [
    "df.unstack(level=1).plot(kind='bar')"
   ]
  },
  {
   "cell_type": "markdown",
   "metadata": {},
   "source": [
    "### Qual foi o dia com a maior quantidade de chamadas? Quantas chamadas foram executadas neste dia?"
   ]
  },
  {
   "cell_type": "code",
   "execution_count": 62,
   "metadata": {},
   "outputs": [
    {
     "data": {
      "text/plain": [
       "2016-01-23    913\n",
       "Name: timeStamp, dtype: int64"
      ]
     },
     "execution_count": 62,
     "metadata": {},
     "output_type": "execute_result"
    }
   ],
   "source": [
    "calls.timeStamp.dt.date.value_counts().head(1)"
   ]
  },
  {
   "cell_type": "code",
   "execution_count": null,
   "metadata": {},
   "outputs": [],
   "source": []
  },
  {
   "cell_type": "markdown",
   "metadata": {},
   "source": [
    "### Levando-se em consideração apenas atendimentos feitos às sextas-feiras, qual a hora do dia com o maior número de chamadas?"
   ]
  },
  {
   "cell_type": "code",
   "execution_count": 64,
   "metadata": {},
   "outputs": [
    {
     "data": {
      "text/plain": [
       "Day of Week  Hour\n",
       "Fri          0       275\n",
       "             1       235\n",
       "             2       191\n",
       "             3       175\n",
       "             4       201\n",
       "                    ... \n",
       "Wed          19      686\n",
       "             20      668\n",
       "             21      575\n",
       "             22      490\n",
       "             23      335\n",
       "Length: 168, dtype: int64"
      ]
     },
     "execution_count": 64,
     "metadata": {},
     "output_type": "execute_result"
    }
   ],
   "source": [
    "f = calls.groupby(['Day of Week', 'Hour']).size()\n",
    "f"
   ]
  },
  {
   "cell_type": "code",
   "execution_count": 65,
   "metadata": {},
   "outputs": [
    {
     "data": {
      "text/plain": [
       "Hour\n",
       "0      275\n",
       "1      235\n",
       "2      191\n",
       "3      175\n",
       "4      201\n",
       "5      194\n",
       "6      372\n",
       "7      598\n",
       "8      742\n",
       "9      752\n",
       "10     803\n",
       "11     859\n",
       "12     885\n",
       "13     890\n",
       "14     932\n",
       "15     980\n",
       "16    1039\n",
       "17     980\n",
       "18     820\n",
       "19     696\n",
       "20     667\n",
       "21     559\n",
       "22     514\n",
       "23     474\n",
       "dtype: int64"
      ]
     },
     "execution_count": 65,
     "metadata": {},
     "output_type": "execute_result"
    }
   ],
   "source": [
    "f.xs(key='Fri', level = 0)"
   ]
  },
  {
   "cell_type": "code",
   "execution_count": 66,
   "metadata": {},
   "outputs": [
    {
     "data": {
      "text/plain": [
       "<AxesSubplot:xlabel='Hour'>"
      ]
     },
     "execution_count": 66,
     "metadata": {},
     "output_type": "execute_result"
    },
    {
     "data": {
      "image/png": "[encoded data removed]",
      "text/plain": [
       "<Figure size 432x288 with 1 Axes>"
      ]
     },
     "metadata": {
      "needs_background": "light"
     },
     "output_type": "display_data"
    }
   ],
   "source": [
    "f.xs(key='Fri', level=0).plot(kind='bar')"
   ]
  },
  {
   "cell_type": "code",
   "execution_count": 68,
   "metadata": {},
   "outputs": [
    {
     "data": {
      "text/plain": [
       "16"
      ]
     },
     "execution_count": 68,
     "metadata": {},
     "output_type": "execute_result"
    }
   ],
   "source": [
    "f.xs(key='Fri', level=0).idxmax()"
   ]
  },
  {
   "cell_type": "markdown",
   "metadata": {},
   "source": [
    "### Levando-se em consideração os atendimentos relacionados a incêndio (*Reason* = *Fire*) qual a quantidade de chamados aos sábados?"
   ]
  },
  {
   "cell_type": "code",
   "execution_count": 73,
   "metadata": {},
   "outputs": [
    {
     "data": {
      "text/plain": [
       "Reason   Day of Week\n",
       "EMS      Fri            7315\n",
       "         Mon            7240\n",
       "         Sat            6685\n",
       "         Sun            6456\n",
       "         Thu            6993\n",
       "         Tue            7222\n",
       "         Wed            6966\n",
       "Fire     Fri            2088\n",
       "         Mon            2204\n",
       "         Sat            2068\n",
       "         Sun            2076\n",
       "         Thu            2136\n",
       "         Tue            2121\n",
       "         Wed            2227\n",
       "Traffic  Fri            5430\n",
       "         Mon            5236\n",
       "         Sat            4583\n",
       "         Sun            3604\n",
       "         Thu            5349\n",
       "         Tue            5807\n",
       "         Wed            5686\n",
       "dtype: int64"
      ]
     },
     "execution_count": 73,
     "metadata": {},
     "output_type": "execute_result"
    }
   ],
   "source": [
    "s = calls.groupby(['Reason', 'Day of Week']).size()\n",
    "s"
   ]
  },
  {
   "cell_type": "code",
   "execution_count": 75,
   "metadata": {},
   "outputs": [
    {
     "data": {
      "text/plain": [
       "2068"
      ]
     },
     "execution_count": 75,
     "metadata": {},
     "output_type": "execute_result"
    }
   ],
   "source": [
    "s['Fire']['Sat']\n"
   ]
  }
 ],
 "metadata": {
  "kernelspec": {
   "display_name": "Python 3 (ipykernel)",
   "language": "python",
   "name": "python3"
  },
  "language_info": {
   "codemirror_mode": {
    "name": "ipython",
    "version": 3
   },
   "file_extension": ".py",
   "mimetype": "text/x-python",
   "name": "python",
   "nbconvert_exporter": "python",
   "pygments_lexer": "ipython3",
   "version": "3.9.2"
  }
 },
 "nbformat": 4,
 "nbformat_minor": 1
}
