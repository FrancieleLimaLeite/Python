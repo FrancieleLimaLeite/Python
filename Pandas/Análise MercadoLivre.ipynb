{
 "cells": [
  {
   "cell_type": "markdown",
   "metadata": {},
   "source": [
    "## Exercício 2 - Análise Data Scraping ML"
   ]
  },
  {
   "cell_type": "markdown",
   "metadata": {},
   "source": [
    "### A partir do arquivo *ml_4k.csv*:"
   ]
  },
  {
   "cell_type": "markdown",
   "metadata": {},
   "source": [
    "### 1 - Importe as bibliotecas"
   ]
  },
  {
   "cell_type": "code",
   "execution_count": 1,
   "metadata": {},
   "outputs": [],
   "source": [
    "import pandas as pd\n",
    "import matplotlib.pyplot as plt\n",
    "import seaborn as sns\n",
    "import numpy as np"
   ]
  },
  {
   "cell_type": "markdown",
   "metadata": {},
   "source": [
    "### 2 - Leitura do arquivo em um Dataframe"
   ]
  },
  {
   "cell_type": "code",
   "execution_count": 2,
   "metadata": {},
   "outputs": [],
   "source": [
    "tv = pd.read_csv('ml_4k.csv')"
   ]
  },
  {
   "cell_type": "markdown",
   "metadata": {},
   "source": [
    "### 3 - Análise preliminar do Dataframe"
   ]
  },
  {
   "cell_type": "code",
   "execution_count": 3,
   "metadata": {},
   "outputs": [
    {
     "name": "stdout",
     "output_type": "stream",
     "text": [
      "<class 'pandas.core.frame.DataFrame'>\n",
      "RangeIndex: 2038 entries, 0 to 2037\n",
      "Data columns (total 6 columns):\n",
      " #   Column      Non-Null Count  Dtype \n",
      "---  ------      --------------  ----- \n",
      " 0   Unnamed: 0  2038 non-null   int64 \n",
      " 1   title       2038 non-null   object\n",
      " 2   brand       2038 non-null   object\n",
      " 3   model       2038 non-null   object\n",
      " 4   size        2038 non-null   int64 \n",
      " 5   price       2038 non-null   int64 \n",
      "dtypes: int64(3), object(3)\n",
      "memory usage: 95.7+ KB\n"
     ]
    }
   ],
   "source": [
    "tv.info()"
   ]
  },
  {
   "cell_type": "code",
   "execution_count": 4,
   "metadata": {},
   "outputs": [
    {
     "data": {
      "text/html": [
       "<div>\n",
       "<style scoped>\n",
       "    .dataframe tbody tr th:only-of-type {\n",
       "        vertical-align: middle;\n",
       "    }\n",
       "\n",
       "    .dataframe tbody tr th {\n",
       "        vertical-align: top;\n",
       "    }\n",
       "\n",
       "    .dataframe thead th {\n",
       "        text-align: right;\n",
       "    }\n",
       "</style>\n",
       "<table border=\"1\" class=\"dataframe\">\n",
       "  <thead>\n",
       "    <tr style=\"text-align: right;\">\n",
       "      <th></th>\n",
       "      <th>Unnamed: 0</th>\n",
       "      <th>title</th>\n",
       "      <th>brand</th>\n",
       "      <th>model</th>\n",
       "      <th>size</th>\n",
       "      <th>price</th>\n",
       "    </tr>\n",
       "  </thead>\n",
       "  <tbody>\n",
       "    <tr>\n",
       "      <th>0</th>\n",
       "      <td>0</td>\n",
       "      <td>Smart Tv Philips 70 4k 70pug7625/78, Wifi, 3 H...</td>\n",
       "      <td>Philips</td>\n",
       "      <td>70PUG7625/78</td>\n",
       "      <td>70</td>\n",
       "      <td>6199</td>\n",
       "    </tr>\n",
       "    <tr>\n",
       "      <th>1</th>\n",
       "      <td>1</td>\n",
       "      <td>Tv LG 55'' 55us660h0sd Uhd 4k Ips Com Hotel Pr...</td>\n",
       "      <td>LG</td>\n",
       "      <td>55US660H0SD.BWZ</td>\n",
       "      <td>55</td>\n",
       "      <td>2999</td>\n",
       "    </tr>\n",
       "    <tr>\n",
       "      <th>2</th>\n",
       "      <td>2</td>\n",
       "      <td>Smart TV Samsung Series 8 UN55TU8000GXZD UDH 4...</td>\n",
       "      <td>Samsung</td>\n",
       "      <td>UN55TU8000</td>\n",
       "      <td>55</td>\n",
       "      <td>4299</td>\n",
       "    </tr>\n",
       "    <tr>\n",
       "      <th>3</th>\n",
       "      <td>3</td>\n",
       "      <td>Smart TV TCL 50P715 DLED 4K 50\" 100V/240V</td>\n",
       "      <td>TCL</td>\n",
       "      <td>50P715</td>\n",
       "      <td>50</td>\n",
       "      <td>2799</td>\n",
       "    </tr>\n",
       "    <tr>\n",
       "      <th>4</th>\n",
       "      <td>4</td>\n",
       "      <td>Smart Tv Philips 55 4k 55pug7625/78, Wifi, 3 H...</td>\n",
       "      <td>Philips</td>\n",
       "      <td>55PUG7625/78</td>\n",
       "      <td>55</td>\n",
       "      <td>3799</td>\n",
       "    </tr>\n",
       "  </tbody>\n",
       "</table>\n",
       "</div>"
      ],
      "text/plain": [
       "   Unnamed: 0                                              title    brand  \\\n",
       "0           0  Smart Tv Philips 70 4k 70pug7625/78, Wifi, 3 H...  Philips   \n",
       "1           1  Tv LG 55'' 55us660h0sd Uhd 4k Ips Com Hotel Pr...       LG   \n",
       "2           2  Smart TV Samsung Series 8 UN55TU8000GXZD UDH 4...  Samsung   \n",
       "3           3          Smart TV TCL 50P715 DLED 4K 50\" 100V/240V      TCL   \n",
       "4           4  Smart Tv Philips 55 4k 55pug7625/78, Wifi, 3 H...  Philips   \n",
       "\n",
       "             model  size  price  \n",
       "0     70PUG7625/78    70   6199  \n",
       "1  55US660H0SD.BWZ    55   2999  \n",
       "2       UN55TU8000    55   4299  \n",
       "3           50P715    50   2799  \n",
       "4     55PUG7625/78    55   3799  "
      ]
     },
     "execution_count": 4,
     "metadata": {},
     "output_type": "execute_result"
    }
   ],
   "source": [
    "tv.head()"
   ]
  },
  {
   "cell_type": "markdown",
   "metadata": {},
   "source": [
    "### 4 - Elimine as informações desnecessárias para as análises"
   ]
  },
  {
   "cell_type": "code",
   "execution_count": 5,
   "metadata": {},
   "outputs": [
    {
     "data": {
      "text/html": [
       "<div>\n",
       "<style scoped>\n",
       "    .dataframe tbody tr th:only-of-type {\n",
       "        vertical-align: middle;\n",
       "    }\n",
       "\n",
       "    .dataframe tbody tr th {\n",
       "        vertical-align: top;\n",
       "    }\n",
       "\n",
       "    .dataframe thead th {\n",
       "        text-align: right;\n",
       "    }\n",
       "</style>\n",
       "<table border=\"1\" class=\"dataframe\">\n",
       "  <thead>\n",
       "    <tr style=\"text-align: right;\">\n",
       "      <th></th>\n",
       "      <th>title</th>\n",
       "      <th>brand</th>\n",
       "      <th>model</th>\n",
       "      <th>size</th>\n",
       "      <th>price</th>\n",
       "    </tr>\n",
       "  </thead>\n",
       "  <tbody>\n",
       "    <tr>\n",
       "      <th>0</th>\n",
       "      <td>Smart Tv Philips 70 4k 70pug7625/78, Wifi, 3 H...</td>\n",
       "      <td>Philips</td>\n",
       "      <td>70PUG7625/78</td>\n",
       "      <td>70</td>\n",
       "      <td>6199</td>\n",
       "    </tr>\n",
       "    <tr>\n",
       "      <th>1</th>\n",
       "      <td>Tv LG 55'' 55us660h0sd Uhd 4k Ips Com Hotel Pr...</td>\n",
       "      <td>LG</td>\n",
       "      <td>55US660H0SD.BWZ</td>\n",
       "      <td>55</td>\n",
       "      <td>2999</td>\n",
       "    </tr>\n",
       "    <tr>\n",
       "      <th>2</th>\n",
       "      <td>Smart TV Samsung Series 8 UN55TU8000GXZD UDH 4...</td>\n",
       "      <td>Samsung</td>\n",
       "      <td>UN55TU8000</td>\n",
       "      <td>55</td>\n",
       "      <td>4299</td>\n",
       "    </tr>\n",
       "    <tr>\n",
       "      <th>3</th>\n",
       "      <td>Smart TV TCL 50P715 DLED 4K 50\" 100V/240V</td>\n",
       "      <td>TCL</td>\n",
       "      <td>50P715</td>\n",
       "      <td>50</td>\n",
       "      <td>2799</td>\n",
       "    </tr>\n",
       "    <tr>\n",
       "      <th>4</th>\n",
       "      <td>Smart Tv Philips 55 4k 55pug7625/78, Wifi, 3 H...</td>\n",
       "      <td>Philips</td>\n",
       "      <td>55PUG7625/78</td>\n",
       "      <td>55</td>\n",
       "      <td>3799</td>\n",
       "    </tr>\n",
       "  </tbody>\n",
       "</table>\n",
       "</div>"
      ],
      "text/plain": [
       "                                               title    brand  \\\n",
       "0  Smart Tv Philips 70 4k 70pug7625/78, Wifi, 3 H...  Philips   \n",
       "1  Tv LG 55'' 55us660h0sd Uhd 4k Ips Com Hotel Pr...       LG   \n",
       "2  Smart TV Samsung Series 8 UN55TU8000GXZD UDH 4...  Samsung   \n",
       "3          Smart TV TCL 50P715 DLED 4K 50\" 100V/240V      TCL   \n",
       "4  Smart Tv Philips 55 4k 55pug7625/78, Wifi, 3 H...  Philips   \n",
       "\n",
       "             model  size  price  \n",
       "0     70PUG7625/78    70   6199  \n",
       "1  55US660H0SD.BWZ    55   2999  \n",
       "2       UN55TU8000    55   4299  \n",
       "3           50P715    50   2799  \n",
       "4     55PUG7625/78    55   3799  "
      ]
     },
     "execution_count": 5,
     "metadata": {},
     "output_type": "execute_result"
    }
   ],
   "source": [
    "tv = tv.drop(columns = ['Unnamed: 0'])\n",
    "tv.head()"
   ]
  },
  {
   "cell_type": "markdown",
   "metadata": {},
   "source": [
    "### 5 - Análises"
   ]
  },
  {
   "cell_type": "markdown",
   "metadata": {},
   "source": [
    "#### - Qual o maior valor de uma TV 4K no ML?\n",
    "#### - Qual o valor médio de uma TV 4K no ML?\n",
    "#### - Qual o menor de uma TV 4K no ML?"
   ]
  },
  {
   "cell_type": "markdown",
   "metadata": {},
   "source": [
    "### Note que há uma variação muito grande de valores, que são denominados dados atípicos ou _outliers_. Descubra uma forma de descobrir e eliminar esses dados de sua amostra de dados."
   ]
  },
  {
   "cell_type": "code",
   "execution_count": 6,
   "metadata": {},
   "outputs": [
    {
     "data": {
      "text/plain": [
       "82612"
      ]
     },
     "execution_count": 6,
     "metadata": {},
     "output_type": "execute_result"
    }
   ],
   "source": [
    "tv['price'].max()"
   ]
  },
  {
   "cell_type": "code",
   "execution_count": 7,
   "metadata": {},
   "outputs": [
    {
     "data": {
      "text/plain": [
       "2400.7173699705595"
      ]
     },
     "execution_count": 7,
     "metadata": {},
     "output_type": "execute_result"
    }
   ],
   "source": [
    "tv['price'].mean()"
   ]
  },
  {
   "cell_type": "code",
   "execution_count": 8,
   "metadata": {},
   "outputs": [
    {
     "data": {
      "text/plain": [
       "7"
      ]
     },
     "execution_count": 8,
     "metadata": {},
     "output_type": "execute_result"
    }
   ],
   "source": [
    "tv['price'].min()"
   ]
  },
  {
   "cell_type": "code",
   "execution_count": 9,
   "metadata": {},
   "outputs": [
    {
     "data": {
      "image/png": "[encoded data removed]",
      "text/plain": [
       "<Figure size 432x288 with 1 Axes>"
      ]
     },
     "metadata": {
      "needs_background": "light"
     },
     "output_type": "display_data"
    }
   ],
   "source": [
    "plt.title('TVs')\n",
    "plt.hist(tv['price'], edgecolor = 'black', linewidth=1)\n",
    "plt.show()"
   ]
  },
  {
   "cell_type": "code",
   "execution_count": 10,
   "metadata": {},
   "outputs": [
    {
     "data": {
      "image/png": "[encoded data removed]",
      "text/plain": [
       "<Figure size 432x288 with 1 Axes>"
      ]
     },
     "metadata": {
      "needs_background": "light"
     },
     "output_type": "display_data"
    }
   ],
   "source": [
    "plt.boxplot(tv['price'], vert = False)\n",
    "plt.show()"
   ]
  },
  {
   "cell_type": "code",
   "execution_count": 11,
   "metadata": {},
   "outputs": [],
   "source": [
    "#calculando o 1° e 3° quartil\n",
    "\n",
    "q1 = tv['price'].quantile(0.25)\n",
    "q3 = tv['price'].quantile(0.75)\n",
    "iqr = q3 - q1"
   ]
  },
  {
   "cell_type": "code",
   "execution_count": 12,
   "metadata": {},
   "outputs": [],
   "source": [
    "# calculando o valor superior e o inferior\n",
    "\n",
    "v_in = (q1 - 1.5 * iqr)\n",
    "v_su = (q3 + 1.5 * iqr)\n"
   ]
  },
  {
   "cell_type": "code",
   "execution_count": 13,
   "metadata": {},
   "outputs": [
    {
     "data": {
      "text/html": [
       "<div>\n",
       "<style scoped>\n",
       "    .dataframe tbody tr th:only-of-type {\n",
       "        vertical-align: middle;\n",
       "    }\n",
       "\n",
       "    .dataframe tbody tr th {\n",
       "        vertical-align: top;\n",
       "    }\n",
       "\n",
       "    .dataframe thead th {\n",
       "        text-align: right;\n",
       "    }\n",
       "</style>\n",
       "<table border=\"1\" class=\"dataframe\">\n",
       "  <thead>\n",
       "    <tr style=\"text-align: right;\">\n",
       "      <th></th>\n",
       "      <th>title</th>\n",
       "      <th>brand</th>\n",
       "      <th>model</th>\n",
       "      <th>size</th>\n",
       "      <th>price</th>\n",
       "    </tr>\n",
       "  </thead>\n",
       "  <tbody>\n",
       "    <tr>\n",
       "      <th>24</th>\n",
       "      <td>Smart TV LG AI ThinQ 75UN801C LED 4K 75\" 110V/...</td>\n",
       "      <td>LG</td>\n",
       "      <td>75UN801C</td>\n",
       "      <td>75</td>\n",
       "      <td>7299</td>\n",
       "    </tr>\n",
       "    <tr>\n",
       "      <th>37</th>\n",
       "      <td>Smart Tv Samsung 75 Polegadas 4k Uhd Crystal U...</td>\n",
       "      <td>Samsung</td>\n",
       "      <td>UN75TU7020GXZD</td>\n",
       "      <td>75</td>\n",
       "      <td>7369</td>\n",
       "    </tr>\n",
       "    <tr>\n",
       "      <th>38</th>\n",
       "      <td>Smart TV Samsung UN75TU8000GXZD LED 4K 75\"</td>\n",
       "      <td>Samsung</td>\n",
       "      <td>UN75TU8000</td>\n",
       "      <td>75</td>\n",
       "      <td>7779</td>\n",
       "    </tr>\n",
       "    <tr>\n",
       "      <th>51</th>\n",
       "      <td>Smart TV LG AI ThinQ 82UN8000PSB LED 4K 82\" 10...</td>\n",
       "      <td>LG</td>\n",
       "      <td>82UN8000</td>\n",
       "      <td>82</td>\n",
       "      <td>11768</td>\n",
       "    </tr>\n",
       "    <tr>\n",
       "      <th>64</th>\n",
       "      <td>Smart Tv Led Pro Uhd 4k LG 75 75un801c Thinq A...</td>\n",
       "      <td>LG</td>\n",
       "      <td>75UN801C</td>\n",
       "      <td>75</td>\n",
       "      <td>7299</td>\n",
       "    </tr>\n",
       "    <tr>\n",
       "      <th>...</th>\n",
       "      <td>...</td>\n",
       "      <td>...</td>\n",
       "      <td>...</td>\n",
       "      <td>...</td>\n",
       "      <td>...</td>\n",
       "    </tr>\n",
       "    <tr>\n",
       "      <th>1802</th>\n",
       "      <td>Smart Tv Qled Uhd 4k Hdr 65 Samsung 65q80t Pre...</td>\n",
       "      <td>Samsung</td>\n",
       "      <td>QN65Q80TA</td>\n",
       "      <td>65</td>\n",
       "      <td>9518</td>\n",
       "    </tr>\n",
       "    <tr>\n",
       "      <th>1845</th>\n",
       "      <td>Smart Tv 4k 65  Ptv65f80sns Philco Bivolt</td>\n",
       "      <td>Philco</td>\n",
       "      <td>PHILCO</td>\n",
       "      <td>65</td>\n",
       "      <td>7599</td>\n",
       "    </tr>\n",
       "    <tr>\n",
       "      <th>1904</th>\n",
       "      <td>Smart Tv 4k 65  Ptv65f80sns Philco Bivolt</td>\n",
       "      <td>Philco</td>\n",
       "      <td>PHILCO</td>\n",
       "      <td>65</td>\n",
       "      <td>7599</td>\n",
       "    </tr>\n",
       "    <tr>\n",
       "      <th>2014</th>\n",
       "      <td>Smart Tv 4k LG Led 82 Google Alexa Wi-fi - 82u...</td>\n",
       "      <td>LG</td>\n",
       "      <td>82UN8000PSB</td>\n",
       "      <td>82</td>\n",
       "      <td>11768</td>\n",
       "    </tr>\n",
       "    <tr>\n",
       "      <th>2022</th>\n",
       "      <td>Smart Tv Oled Uhd 4k Hdr 77 LG Oled77cxpsa Pre...</td>\n",
       "      <td>LG</td>\n",
       "      <td>OLED77CXPSA</td>\n",
       "      <td>77</td>\n",
       "      <td>47691</td>\n",
       "    </tr>\n",
       "  </tbody>\n",
       "</table>\n",
       "<p>115 rows × 5 columns</p>\n",
       "</div>"
      ],
      "text/plain": [
       "                                                  title    brand  \\\n",
       "24    Smart TV LG AI ThinQ 75UN801C LED 4K 75\" 110V/...       LG   \n",
       "37    Smart Tv Samsung 75 Polegadas 4k Uhd Crystal U...  Samsung   \n",
       "38           Smart TV Samsung UN75TU8000GXZD LED 4K 75\"  Samsung   \n",
       "51    Smart TV LG AI ThinQ 82UN8000PSB LED 4K 82\" 10...       LG   \n",
       "64    Smart Tv Led Pro Uhd 4k LG 75 75un801c Thinq A...       LG   \n",
       "...                                                 ...      ...   \n",
       "1802  Smart Tv Qled Uhd 4k Hdr 65 Samsung 65q80t Pre...  Samsung   \n",
       "1845          Smart Tv 4k 65  Ptv65f80sns Philco Bivolt   Philco   \n",
       "1904          Smart Tv 4k 65  Ptv65f80sns Philco Bivolt   Philco   \n",
       "2014  Smart Tv 4k LG Led 82 Google Alexa Wi-fi - 82u...       LG   \n",
       "2022  Smart Tv Oled Uhd 4k Hdr 77 LG Oled77cxpsa Pre...       LG   \n",
       "\n",
       "               model  size  price  \n",
       "24          75UN801C    75   7299  \n",
       "37    UN75TU7020GXZD    75   7369  \n",
       "38        UN75TU8000    75   7779  \n",
       "51          82UN8000    82  11768  \n",
       "64          75UN801C    75   7299  \n",
       "...              ...   ...    ...  \n",
       "1802       QN65Q80TA    65   9518  \n",
       "1845          PHILCO    65   7599  \n",
       "1904          PHILCO    65   7599  \n",
       "2014     82UN8000PSB    82  11768  \n",
       "2022     OLED77CXPSA    77  47691  \n",
       "\n",
       "[115 rows x 5 columns]"
      ]
     },
     "execution_count": 13,
     "metadata": {},
     "output_type": "execute_result"
    }
   ],
   "source": [
    "#encontrando os outliers\n",
    "\n",
    "out = (tv['price']< v_in) | (tv['price']> v_su)\n",
    "outliers = tv[out]\n",
    "outliers"
   ]
  },
  {
   "cell_type": "code",
   "execution_count": 32,
   "metadata": {},
   "outputs": [
    {
     "data": {
      "text/html": [
       "<div>\n",
       "<style scoped>\n",
       "    .dataframe tbody tr th:only-of-type {\n",
       "        vertical-align: middle;\n",
       "    }\n",
       "\n",
       "    .dataframe tbody tr th {\n",
       "        vertical-align: top;\n",
       "    }\n",
       "\n",
       "    .dataframe thead th {\n",
       "        text-align: right;\n",
       "    }\n",
       "</style>\n",
       "<table border=\"1\" class=\"dataframe\">\n",
       "  <thead>\n",
       "    <tr style=\"text-align: right;\">\n",
       "      <th></th>\n",
       "      <th>title</th>\n",
       "      <th>brand</th>\n",
       "      <th>model</th>\n",
       "      <th>size</th>\n",
       "      <th>price</th>\n",
       "    </tr>\n",
       "  </thead>\n",
       "  <tbody>\n",
       "    <tr>\n",
       "      <th>0</th>\n",
       "      <td>Smart Tv Philips 70 4k 70pug7625/78, Wifi, 3 H...</td>\n",
       "      <td>Philips</td>\n",
       "      <td>70PUG7625/78</td>\n",
       "      <td>70</td>\n",
       "      <td>6199</td>\n",
       "    </tr>\n",
       "    <tr>\n",
       "      <th>1</th>\n",
       "      <td>Tv LG 55'' 55us660h0sd Uhd 4k Ips Com Hotel Pr...</td>\n",
       "      <td>LG</td>\n",
       "      <td>55US660H0SD.BWZ</td>\n",
       "      <td>55</td>\n",
       "      <td>2999</td>\n",
       "    </tr>\n",
       "    <tr>\n",
       "      <th>2</th>\n",
       "      <td>Smart TV Samsung Series 8 UN55TU8000GXZD UDH 4...</td>\n",
       "      <td>Samsung</td>\n",
       "      <td>UN55TU8000</td>\n",
       "      <td>55</td>\n",
       "      <td>4299</td>\n",
       "    </tr>\n",
       "    <tr>\n",
       "      <th>3</th>\n",
       "      <td>Smart TV TCL 50P715 DLED 4K 50\" 100V/240V</td>\n",
       "      <td>TCL</td>\n",
       "      <td>50P715</td>\n",
       "      <td>50</td>\n",
       "      <td>2799</td>\n",
       "    </tr>\n",
       "    <tr>\n",
       "      <th>4</th>\n",
       "      <td>Smart Tv Philips 55 4k 55pug7625/78, Wifi, 3 H...</td>\n",
       "      <td>Philips</td>\n",
       "      <td>55PUG7625/78</td>\n",
       "      <td>55</td>\n",
       "      <td>3799</td>\n",
       "    </tr>\n",
       "    <tr>\n",
       "      <th>...</th>\n",
       "      <td>...</td>\n",
       "      <td>...</td>\n",
       "      <td>...</td>\n",
       "      <td>...</td>\n",
       "      <td>...</td>\n",
       "    </tr>\n",
       "    <tr>\n",
       "      <th>2033</th>\n",
       "      <td>Smart Tv LG Ai Thinq 60un7310psa Led 4k 60  10...</td>\n",
       "      <td>LG</td>\n",
       "      <td>15996576186</td>\n",
       "      <td>60</td>\n",
       "      <td>769</td>\n",
       "    </tr>\n",
       "    <tr>\n",
       "      <th>2034</th>\n",
       "      <td>Smart Tv LG Ai Thinq 65un7100psa Led 4k 65  10...</td>\n",
       "      <td>LG</td>\n",
       "      <td>15996576186</td>\n",
       "      <td>65</td>\n",
       "      <td>772</td>\n",
       "    </tr>\n",
       "    <tr>\n",
       "      <th>2035</th>\n",
       "      <td>Peças Tv Samsung Smart Tv Mu6120 58 Uhd 4k Un5...</td>\n",
       "      <td>Samsung</td>\n",
       "      <td>UN58MU6120</td>\n",
       "      <td>58</td>\n",
       "      <td>1815</td>\n",
       "    </tr>\n",
       "    <tr>\n",
       "      <th>2036</th>\n",
       "      <td>Peças Para Samsung 40  Smart Tv Led 40  Uhd 4k...</td>\n",
       "      <td>Samsung</td>\n",
       "      <td>UN40NU7100</td>\n",
       "      <td>40</td>\n",
       "      <td>645</td>\n",
       "    </tr>\n",
       "    <tr>\n",
       "      <th>2037</th>\n",
       "      <td>Smart Tv Samsung Series Q Qn55q80tagxzd Qled 4...</td>\n",
       "      <td>Samsung</td>\n",
       "      <td>15996576186</td>\n",
       "      <td>55</td>\n",
       "      <td>761</td>\n",
       "    </tr>\n",
       "  </tbody>\n",
       "</table>\n",
       "<p>1923 rows × 5 columns</p>\n",
       "</div>"
      ],
      "text/plain": [
       "                                                  title    brand  \\\n",
       "0     Smart Tv Philips 70 4k 70pug7625/78, Wifi, 3 H...  Philips   \n",
       "1     Tv LG 55'' 55us660h0sd Uhd 4k Ips Com Hotel Pr...       LG   \n",
       "2     Smart TV Samsung Series 8 UN55TU8000GXZD UDH 4...  Samsung   \n",
       "3             Smart TV TCL 50P715 DLED 4K 50\" 100V/240V      TCL   \n",
       "4     Smart Tv Philips 55 4k 55pug7625/78, Wifi, 3 H...  Philips   \n",
       "...                                                 ...      ...   \n",
       "2033  Smart Tv LG Ai Thinq 60un7310psa Led 4k 60  10...       LG   \n",
       "2034  Smart Tv LG Ai Thinq 65un7100psa Led 4k 65  10...       LG   \n",
       "2035  Peças Tv Samsung Smart Tv Mu6120 58 Uhd 4k Un5...  Samsung   \n",
       "2036  Peças Para Samsung 40  Smart Tv Led 40  Uhd 4k...  Samsung   \n",
       "2037  Smart Tv Samsung Series Q Qn55q80tagxzd Qled 4...  Samsung   \n",
       "\n",
       "                model  size  price  \n",
       "0        70PUG7625/78    70   6199  \n",
       "1     55US660H0SD.BWZ    55   2999  \n",
       "2          UN55TU8000    55   4299  \n",
       "3              50P715    50   2799  \n",
       "4        55PUG7625/78    55   3799  \n",
       "...               ...   ...    ...  \n",
       "2033      15996576186    60    769  \n",
       "2034      15996576186    65    772  \n",
       "2035       UN58MU6120    58   1815  \n",
       "2036       UN40NU7100    40    645  \n",
       "2037      15996576186    55    761  \n",
       "\n",
       "[1923 rows x 5 columns]"
      ]
     },
     "execution_count": 32,
     "metadata": {},
     "output_type": "execute_result"
    }
   ],
   "source": [
    "#obtendo as informações sem os outliers\n",
    "\n",
    "sem = (tv['price']>= v_in) & (tv['price']<= v_su)\n",
    "tv = tv[sem]\n",
    "tv"
   ]
  },
  {
   "cell_type": "markdown",
   "metadata": {},
   "source": [
    "### Com o dataframe já livre de outliers:"
   ]
  },
  {
   "cell_type": "markdown",
   "metadata": {},
   "source": [
    "### - Quais são os 5 principais fabricantes (baseado na quantidade de anúncios de cada fabricante)"
   ]
  },
  {
   "cell_type": "code",
   "execution_count": 33,
   "metadata": {},
   "outputs": [
    {
     "data": {
      "text/plain": [
       "Samsung             651\n",
       "LG                  624\n",
       "TCL                 233\n",
       "Philco              132\n",
       "Philips              55\n",
       "Semp                 43\n",
       "Generic              43\n",
       "Panasonic            31\n",
       "Sony                 26\n",
       "laço rolo            14\n",
       "unbrand              10\n",
       "HQ                   10\n",
       "Multilaser            6\n",
       "AOC                   5\n",
       "Semp Toshiba          4\n",
       "Aoc Linha Marrom      3\n",
       "Nobrand               3\n",
       "MiraScreen            3\n",
       "Toshiba               3\n",
       "CCE                   3\n",
       "Semp TCL              3\n",
       "JVC                   3\n",
       "PHILCO SOUND          3\n",
       "Neofix                2\n",
       "Simple Mall           1\n",
       "GTMedia               1\n",
       "outros                1\n",
       "Hevc                  1\n",
       "FitaPro               1\n",
       "smart tv              1\n",
       "mx 4K                 1\n",
       "Capte                 1\n",
       "Apple                 1\n",
       "Tny279pn              1\n",
       "Name: brand, dtype: int64"
      ]
     },
     "execution_count": 33,
     "metadata": {},
     "output_type": "execute_result"
    }
   ],
   "source": [
    "tv.brand.value_counts()\n"
   ]
  },
  {
   "cell_type": "code",
   "execution_count": 34,
   "metadata": {},
   "outputs": [
    {
     "data": {
      "text/plain": [
       "<AxesSubplot:ylabel='brand'>"
      ]
     },
     "execution_count": 34,
     "metadata": {},
     "output_type": "execute_result"
    },
    {
     "data": {
      "image/png": "[encoded data removed]",
      "text/plain": [
       "<Figure size 432x288 with 1 Axes>"
      ]
     },
     "metadata": {},
     "output_type": "display_data"
    }
   ],
   "source": [
    "tv.brand.value_counts().head(5).plot(kind='pie', autopct='%.2f%%')"
   ]
  },
  {
   "cell_type": "markdown",
   "metadata": {},
   "source": [
    "### - Quantos anúncios estão disponíveis desses fabricantes?"
   ]
  },
  {
   "cell_type": "code",
   "execution_count": 35,
   "metadata": {},
   "outputs": [
    {
     "data": {
      "text/plain": [
       "Samsung    651\n",
       "LG         624\n",
       "TCL        233\n",
       "Philco     132\n",
       "Philips     55\n",
       "Name: brand, dtype: int64"
      ]
     },
     "execution_count": 35,
     "metadata": {},
     "output_type": "execute_result"
    }
   ],
   "source": [
    "tv.brand.value_counts().head(5)"
   ]
  },
  {
   "cell_type": "markdown",
   "metadata": {},
   "source": [
    "### - Reduza o dataframe para os registros desses fabricantes apenas:"
   ]
  },
  {
   "cell_type": "code",
   "execution_count": 36,
   "metadata": {},
   "outputs": [
    {
     "data": {
      "text/html": [
       "<div>\n",
       "<style scoped>\n",
       "    .dataframe tbody tr th:only-of-type {\n",
       "        vertical-align: middle;\n",
       "    }\n",
       "\n",
       "    .dataframe tbody tr th {\n",
       "        vertical-align: top;\n",
       "    }\n",
       "\n",
       "    .dataframe thead th {\n",
       "        text-align: right;\n",
       "    }\n",
       "</style>\n",
       "<table border=\"1\" class=\"dataframe\">\n",
       "  <thead>\n",
       "    <tr style=\"text-align: right;\">\n",
       "      <th></th>\n",
       "      <th>title</th>\n",
       "      <th>brand</th>\n",
       "      <th>model</th>\n",
       "      <th>size</th>\n",
       "      <th>price</th>\n",
       "    </tr>\n",
       "  </thead>\n",
       "  <tbody>\n",
       "    <tr>\n",
       "      <th>0</th>\n",
       "      <td>Smart Tv Philips 70 4k 70pug7625/78, Wifi, 3 H...</td>\n",
       "      <td>Philips</td>\n",
       "      <td>70PUG7625/78</td>\n",
       "      <td>70</td>\n",
       "      <td>6199</td>\n",
       "    </tr>\n",
       "    <tr>\n",
       "      <th>1</th>\n",
       "      <td>Tv LG 55'' 55us660h0sd Uhd 4k Ips Com Hotel Pr...</td>\n",
       "      <td>LG</td>\n",
       "      <td>55US660H0SD.BWZ</td>\n",
       "      <td>55</td>\n",
       "      <td>2999</td>\n",
       "    </tr>\n",
       "    <tr>\n",
       "      <th>2</th>\n",
       "      <td>Smart TV Samsung Series 8 UN55TU8000GXZD UDH 4...</td>\n",
       "      <td>Samsung</td>\n",
       "      <td>UN55TU8000</td>\n",
       "      <td>55</td>\n",
       "      <td>4299</td>\n",
       "    </tr>\n",
       "    <tr>\n",
       "      <th>3</th>\n",
       "      <td>Smart TV TCL 50P715 DLED 4K 50\" 100V/240V</td>\n",
       "      <td>TCL</td>\n",
       "      <td>50P715</td>\n",
       "      <td>50</td>\n",
       "      <td>2799</td>\n",
       "    </tr>\n",
       "    <tr>\n",
       "      <th>4</th>\n",
       "      <td>Smart Tv Philips 55 4k 55pug7625/78, Wifi, 3 H...</td>\n",
       "      <td>Philips</td>\n",
       "      <td>55PUG7625/78</td>\n",
       "      <td>55</td>\n",
       "      <td>3799</td>\n",
       "    </tr>\n",
       "    <tr>\n",
       "      <th>...</th>\n",
       "      <td>...</td>\n",
       "      <td>...</td>\n",
       "      <td>...</td>\n",
       "      <td>...</td>\n",
       "      <td>...</td>\n",
       "    </tr>\n",
       "    <tr>\n",
       "      <th>2033</th>\n",
       "      <td>Smart Tv LG Ai Thinq 60un7310psa Led 4k 60  10...</td>\n",
       "      <td>LG</td>\n",
       "      <td>15996576186</td>\n",
       "      <td>60</td>\n",
       "      <td>769</td>\n",
       "    </tr>\n",
       "    <tr>\n",
       "      <th>2034</th>\n",
       "      <td>Smart Tv LG Ai Thinq 65un7100psa Led 4k 65  10...</td>\n",
       "      <td>LG</td>\n",
       "      <td>15996576186</td>\n",
       "      <td>65</td>\n",
       "      <td>772</td>\n",
       "    </tr>\n",
       "    <tr>\n",
       "      <th>2035</th>\n",
       "      <td>Peças Tv Samsung Smart Tv Mu6120 58 Uhd 4k Un5...</td>\n",
       "      <td>Samsung</td>\n",
       "      <td>UN58MU6120</td>\n",
       "      <td>58</td>\n",
       "      <td>1815</td>\n",
       "    </tr>\n",
       "    <tr>\n",
       "      <th>2036</th>\n",
       "      <td>Peças Para Samsung 40  Smart Tv Led 40  Uhd 4k...</td>\n",
       "      <td>Samsung</td>\n",
       "      <td>UN40NU7100</td>\n",
       "      <td>40</td>\n",
       "      <td>645</td>\n",
       "    </tr>\n",
       "    <tr>\n",
       "      <th>2037</th>\n",
       "      <td>Smart Tv Samsung Series Q Qn55q80tagxzd Qled 4...</td>\n",
       "      <td>Samsung</td>\n",
       "      <td>15996576186</td>\n",
       "      <td>55</td>\n",
       "      <td>761</td>\n",
       "    </tr>\n",
       "  </tbody>\n",
       "</table>\n",
       "<p>1695 rows × 5 columns</p>\n",
       "</div>"
      ],
      "text/plain": [
       "                                                  title    brand  \\\n",
       "0     Smart Tv Philips 70 4k 70pug7625/78, Wifi, 3 H...  Philips   \n",
       "1     Tv LG 55'' 55us660h0sd Uhd 4k Ips Com Hotel Pr...       LG   \n",
       "2     Smart TV Samsung Series 8 UN55TU8000GXZD UDH 4...  Samsung   \n",
       "3             Smart TV TCL 50P715 DLED 4K 50\" 100V/240V      TCL   \n",
       "4     Smart Tv Philips 55 4k 55pug7625/78, Wifi, 3 H...  Philips   \n",
       "...                                                 ...      ...   \n",
       "2033  Smart Tv LG Ai Thinq 60un7310psa Led 4k 60  10...       LG   \n",
       "2034  Smart Tv LG Ai Thinq 65un7100psa Led 4k 65  10...       LG   \n",
       "2035  Peças Tv Samsung Smart Tv Mu6120 58 Uhd 4k Un5...  Samsung   \n",
       "2036  Peças Para Samsung 40  Smart Tv Led 40  Uhd 4k...  Samsung   \n",
       "2037  Smart Tv Samsung Series Q Qn55q80tagxzd Qled 4...  Samsung   \n",
       "\n",
       "                model  size  price  \n",
       "0        70PUG7625/78    70   6199  \n",
       "1     55US660H0SD.BWZ    55   2999  \n",
       "2          UN55TU8000    55   4299  \n",
       "3              50P715    50   2799  \n",
       "4        55PUG7625/78    55   3799  \n",
       "...               ...   ...    ...  \n",
       "2033      15996576186    60    769  \n",
       "2034      15996576186    65    772  \n",
       "2035       UN58MU6120    58   1815  \n",
       "2036       UN40NU7100    40    645  \n",
       "2037      15996576186    55    761  \n",
       "\n",
       "[1695 rows x 5 columns]"
      ]
     },
     "execution_count": 36,
     "metadata": {},
     "output_type": "execute_result"
    }
   ],
   "source": [
    " df_remove = tv.loc[((tv['brand'] != 'Samsung')\n",
    "                        & (tv['brand'] != 'LG') & (tv['brand'] != 'TCL')\n",
    "                        & (tv['brand'] != 'Philco') & (tv['brand'] != 'Philips'))]\n",
    "                             \n",
    "tv = tv.drop(df_remove.index)\n",
    "tv"
   ]
  },
  {
   "cell_type": "markdown",
   "metadata": {},
   "source": [
    "### - Qual o tamanho da tela com o maior número de anúncios?"
   ]
  },
  {
   "cell_type": "code",
   "execution_count": 37,
   "metadata": {},
   "outputs": [
    {
     "data": {
      "text/plain": [
       "55    507\n",
       "Name: size, dtype: int64"
      ]
     },
     "execution_count": 37,
     "metadata": {},
     "output_type": "execute_result"
    }
   ],
   "source": [
    "tv['size'].value_counts().head(1)\n",
    "\n",
    "#tamanho da tela com maior número de anúncio é '55'"
   ]
  },
  {
   "cell_type": "markdown",
   "metadata": {},
   "source": [
    "### - Dessas TV's com o maior número de anúncios, qual o fabricante e o modelo da TV mais cara?"
   ]
  },
  {
   "cell_type": "code",
   "execution_count": 42,
   "metadata": {},
   "outputs": [
    {
     "data": {
      "text/plain": [
       "title             Venda\n",
       "brand               TCL\n",
       "model    UN55TU8000GXZD\n",
       "size                 55\n",
       "price              6999\n",
       "dtype: object"
      ]
     },
     "execution_count": 42,
     "metadata": {},
     "output_type": "execute_result"
    }
   ],
   "source": [
    "caro = tv.loc[tv['size'] == 55]\n",
    "caro.max()\n"
   ]
  },
  {
   "cell_type": "markdown",
   "metadata": {},
   "source": [
    "### - E da TV mais barata?"
   ]
  },
  {
   "cell_type": "code",
   "execution_count": 41,
   "metadata": {},
   "outputs": [
    {
     "data": {
      "text/plain": [
       "title    55  Uhd 4k Smart Tv Mu6400 - Tela Trincada\n",
       "brand                                            LG\n",
       "model                                 (62)996353634\n",
       "size                                             55\n",
       "price                                           250\n",
       "dtype: object"
      ]
     },
     "execution_count": 41,
     "metadata": {},
     "output_type": "execute_result"
    }
   ],
   "source": [
    "barato = tv.loc[tv['size'] == 55]\n",
    "barato.min()"
   ]
  },
  {
   "cell_type": "markdown",
   "metadata": {},
   "source": [
    "### - Das TV's de 65\", qual a média da valor por fabricante? Mostre graficamente."
   ]
  },
  {
   "cell_type": "code",
   "execution_count": 51,
   "metadata": {},
   "outputs": [
    {
     "data": {
      "text/html": [
       "<div>\n",
       "<style scoped>\n",
       "    .dataframe tbody tr th:only-of-type {\n",
       "        vertical-align: middle;\n",
       "    }\n",
       "\n",
       "    .dataframe tbody tr th {\n",
       "        vertical-align: top;\n",
       "    }\n",
       "\n",
       "    .dataframe thead th {\n",
       "        text-align: right;\n",
       "    }\n",
       "</style>\n",
       "<table border=\"1\" class=\"dataframe\">\n",
       "  <thead>\n",
       "    <tr style=\"text-align: right;\">\n",
       "      <th></th>\n",
       "      <th>title</th>\n",
       "      <th>brand</th>\n",
       "      <th>model</th>\n",
       "      <th>size</th>\n",
       "      <th>price</th>\n",
       "    </tr>\n",
       "  </thead>\n",
       "  <tbody>\n",
       "    <tr>\n",
       "      <th>5</th>\n",
       "      <td>Smart TV TCL 65P715 LED 4K 65\" 100V/240V</td>\n",
       "      <td>TCL</td>\n",
       "      <td>65P715</td>\n",
       "      <td>65</td>\n",
       "      <td>4499</td>\n",
       "    </tr>\n",
       "    <tr>\n",
       "      <th>13</th>\n",
       "      <td>Smart Tv Philips 65 4k 65pug7625/78 Wifi, 3 Hd...</td>\n",
       "      <td>Philips</td>\n",
       "      <td>65PUG7625/78</td>\n",
       "      <td>65</td>\n",
       "      <td>5349</td>\n",
       "    </tr>\n",
       "    <tr>\n",
       "      <th>16</th>\n",
       "      <td>Smart TV Samsung Series Business LH65BETHVGGXZ...</td>\n",
       "      <td>Samsung</td>\n",
       "      <td>LH65BETHVG</td>\n",
       "      <td>65</td>\n",
       "      <td>4499</td>\n",
       "    </tr>\n",
       "    <tr>\n",
       "      <th>17</th>\n",
       "      <td>Samsung Smart Tv Crystal Uhd Tu7020 4k 2020 65...</td>\n",
       "      <td>Samsung</td>\n",
       "      <td>TU7020</td>\n",
       "      <td>65</td>\n",
       "      <td>4699</td>\n",
       "    </tr>\n",
       "    <tr>\n",
       "      <th>23</th>\n",
       "      <td>Smart TV LG 65UN731C LED 4K 65\" 100V/240V</td>\n",
       "      <td>LG</td>\n",
       "      <td>65UN731C</td>\n",
       "      <td>65</td>\n",
       "      <td>4499</td>\n",
       "    </tr>\n",
       "    <tr>\n",
       "      <th>...</th>\n",
       "      <td>...</td>\n",
       "      <td>...</td>\n",
       "      <td>...</td>\n",
       "      <td>...</td>\n",
       "      <td>...</td>\n",
       "    </tr>\n",
       "    <tr>\n",
       "      <th>2004</th>\n",
       "      <td>Smart Tv Samsung Series 7 Un65tu7000gxzd Led 4...</td>\n",
       "      <td>Samsung</td>\n",
       "      <td>64999832142</td>\n",
       "      <td>65</td>\n",
       "      <td>772</td>\n",
       "    </tr>\n",
       "    <tr>\n",
       "      <th>2005</th>\n",
       "      <td>Smart Tv Led Hdr Uhd 4k 65 Tcl P715 Cinza Bivolt</td>\n",
       "      <td>TCL</td>\n",
       "      <td>65P715</td>\n",
       "      <td>65</td>\n",
       "      <td>6165</td>\n",
       "    </tr>\n",
       "    <tr>\n",
       "      <th>2013</th>\n",
       "      <td>Smart Tv LG Ai Thinq Oled65b9psb 4k 65  100v/240v</td>\n",
       "      <td>LG</td>\n",
       "      <td>15996576186</td>\n",
       "      <td>65</td>\n",
       "      <td>785</td>\n",
       "    </tr>\n",
       "    <tr>\n",
       "      <th>2032</th>\n",
       "      <td>Smart Tv LG Ai Thinq 65un7100psa Led 4k 65  10...</td>\n",
       "      <td>LG</td>\n",
       "      <td>15996576186</td>\n",
       "      <td>65</td>\n",
       "      <td>772</td>\n",
       "    </tr>\n",
       "    <tr>\n",
       "      <th>2034</th>\n",
       "      <td>Smart Tv LG Ai Thinq 65un7100psa Led 4k 65  10...</td>\n",
       "      <td>LG</td>\n",
       "      <td>15996576186</td>\n",
       "      <td>65</td>\n",
       "      <td>772</td>\n",
       "    </tr>\n",
       "  </tbody>\n",
       "</table>\n",
       "<p>405 rows × 5 columns</p>\n",
       "</div>"
      ],
      "text/plain": [
       "                                                  title    brand  \\\n",
       "5              Smart TV TCL 65P715 LED 4K 65\" 100V/240V      TCL   \n",
       "13    Smart Tv Philips 65 4k 65pug7625/78 Wifi, 3 Hd...  Philips   \n",
       "16    Smart TV Samsung Series Business LH65BETHVGGXZ...  Samsung   \n",
       "17    Samsung Smart Tv Crystal Uhd Tu7020 4k 2020 65...  Samsung   \n",
       "23            Smart TV LG 65UN731C LED 4K 65\" 100V/240V       LG   \n",
       "...                                                 ...      ...   \n",
       "2004  Smart Tv Samsung Series 7 Un65tu7000gxzd Led 4...  Samsung   \n",
       "2005   Smart Tv Led Hdr Uhd 4k 65 Tcl P715 Cinza Bivolt      TCL   \n",
       "2013  Smart Tv LG Ai Thinq Oled65b9psb 4k 65  100v/240v       LG   \n",
       "2032  Smart Tv LG Ai Thinq 65un7100psa Led 4k 65  10...       LG   \n",
       "2034  Smart Tv LG Ai Thinq 65un7100psa Led 4k 65  10...       LG   \n",
       "\n",
       "             model  size  price  \n",
       "5           65P715    65   4499  \n",
       "13    65PUG7625/78    65   5349  \n",
       "16      LH65BETHVG    65   4499  \n",
       "17          TU7020    65   4699  \n",
       "23        65UN731C    65   4499  \n",
       "...            ...   ...    ...  \n",
       "2004   64999832142    65    772  \n",
       "2005        65P715    65   6165  \n",
       "2013   15996576186    65    785  \n",
       "2032   15996576186    65    772  \n",
       "2034   15996576186    65    772  \n",
       "\n",
       "[405 rows x 5 columns]"
      ]
     },
     "execution_count": 51,
     "metadata": {},
     "output_type": "execute_result"
    }
   ],
   "source": [
    "m = tv.loc[tv['size'] == 65]\n",
    "m"
   ]
  },
  {
   "cell_type": "code",
   "execution_count": 58,
   "metadata": {},
   "outputs": [
    {
     "data": {
      "text/plain": [
       "2119.816513761468"
      ]
     },
     "execution_count": 58,
     "metadata": {},
     "output_type": "execute_result"
    }
   ],
   "source": [
    "f = m.loc[m['brand'] == 'Samsung']\n",
    "f['price'].mean()"
   ]
  },
  {
   "cell_type": "code",
   "execution_count": 59,
   "metadata": {},
   "outputs": [
    {
     "data": {
      "text/plain": [
       "1648.879746835443"
      ]
     },
     "execution_count": 59,
     "metadata": {},
     "output_type": "execute_result"
    }
   ],
   "source": [
    "lg = m.loc[m['brand'] == 'LG']\n",
    "lg['price'].mean()"
   ]
  },
  {
   "cell_type": "code",
   "execution_count": 60,
   "metadata": {},
   "outputs": [
    {
     "data": {
      "text/plain": [
       "1797.0886075949368"
      ]
     },
     "execution_count": 60,
     "metadata": {},
     "output_type": "execute_result"
    }
   ],
   "source": [
    "tcl = m.loc[m['brand'] == 'TCL']\n",
    "tcl['price'].mean()"
   ]
  },
  {
   "cell_type": "code",
   "execution_count": 61,
   "metadata": {},
   "outputs": [
    {
     "data": {
      "text/plain": [
       "1292.591836734694"
      ]
     },
     "execution_count": 61,
     "metadata": {},
     "output_type": "execute_result"
    }
   ],
   "source": [
    "philco = m.loc[m['brand'] == 'Philco']\n",
    "philco['price'].mean()"
   ]
  },
  {
   "cell_type": "code",
   "execution_count": 62,
   "metadata": {},
   "outputs": [
    {
     "data": {
      "text/plain": [
       "4842.7"
      ]
     },
     "execution_count": 62,
     "metadata": {},
     "output_type": "execute_result"
    }
   ],
   "source": [
    "philips = m.loc[m['brand'] == 'Philips']\n",
    "philips['price'].mean()"
   ]
  },
  {
   "cell_type": "markdown",
   "metadata": {},
   "source": [
    "### - Qual marca oferece o maior número de anúncios de TV's de 65\" de um único modelo? Qual modelo?"
   ]
  },
  {
   "cell_type": "code",
   "execution_count": 73,
   "metadata": {},
   "outputs": [
    {
     "data": {
      "text/plain": [
       "brand    model                              \n",
       "LG       15996576186                            81\n",
       "         64999832142                            31\n",
       "         65NANO81                                2\n",
       "         65NANO86                                4\n",
       "         65SM8100psa                             1\n",
       "         65UK6530                                1\n",
       "         65UK6540                                1\n",
       "         65UM7470                                1\n",
       "         65UM7520                                1\n",
       "         65UM7520PSB                             1\n",
       "         65UM761C0SB                             1\n",
       "         65UN7100                                5\n",
       "         65UN7100PSA                             4\n",
       "         65UN7310                               11\n",
       "         65UN731C                                9\n",
       "         65UN731COSC                             1\n",
       "         OLED65C                                 2\n",
       "         Smart TV                                1\n",
       "Philco   15996576186                            30\n",
       "         64999832142                            12\n",
       "         99653002                                1\n",
       "         PHILCO                                  2\n",
       "         PTV65F60DSWN                            1\n",
       "         PTV65F80SNS                             1\n",
       "         PTV65F82SSG                             2\n",
       "Philips  65PUG6794                               6\n",
       "         65PUG6794/78                            1\n",
       "         65PUG7625/78                            3\n",
       "Samsung  15996576186                            30\n",
       "         64999832142                            16\n",
       "         65 TU 7000                              1\n",
       "         LH65BENEL                               3\n",
       "         LH65BETHVG                             15\n",
       "         Placas TV Samsung model UN65MU6400G     1\n",
       "         QN65Q95TA                               1\n",
       "         Smart TV UHD 4K                         1\n",
       "         TU7020                                  6\n",
       "         UHD 4K                                  1\n",
       "         UN65AU7700GXZD                          1\n",
       "         UN65MU6100                              4\n",
       "         UN65NU7100                              3\n",
       "         UN65RU7100                              4\n",
       "         UN65TU7000                              8\n",
       "         UN65TU8000                             12\n",
       "         UN65TU8000GXZD                          2\n",
       "TCL      15996576186                            34\n",
       "         58038                                   1\n",
       "         64999832142                            11\n",
       "         65C715                                  5\n",
       "         65P6                                    1\n",
       "         65P715                                 20\n",
       "         65P8M                                   6\n",
       "         QL65C715                                1\n",
       "dtype: int64"
      ]
     },
     "execution_count": 73,
     "metadata": {},
     "output_type": "execute_result"
    }
   ],
   "source": [
    "model = m.groupby(['brand', 'model']).size()\n",
    "model"
   ]
  },
  {
   "cell_type": "markdown",
   "metadata": {},
   "source": [
    "A marca LG oferece o maior número de anúncio do mesmo modelo, e o modelo é 15996576186"
   ]
  },
  {
   "cell_type": "markdown",
   "metadata": {},
   "source": [
    "### - Baseado nos dados que você possui, qual marca e modelo de TV 4K recomendaria a aquisição? Justifique sua recomendação."
   ]
  },
  {
   "cell_type": "markdown",
   "metadata": {},
   "source": [
    "Eu recomendaria a Tv da marca Samsung, além de ser a mais anunciada o valor médio não está alto."
   ]
  }
 ],
 "metadata": {
  "kernelspec": {
   "display_name": "Python 3",
   "language": "python",
   "name": "python3"
  },
  "language_info": {
   "codemirror_mode": {
    "name": "ipython",
    "version": 3
   },
   "file_extension": ".py",
   "mimetype": "text/x-python",
   "name": "python",
   "nbconvert_exporter": "python",
   "pygments_lexer": "ipython3",
   "version": "3.9.2"
  }
 },
 "nbformat": 4,
 "nbformat_minor": 2
}
