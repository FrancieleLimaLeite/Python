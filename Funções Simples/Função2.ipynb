{
 "cells": [
  {
   "cell_type": "markdown",
   "metadata": {},
   "source": [
    "## Escreva uma função que receba uma lista de números e retorne uma tupla com duas listas, a primeira contendo todos os numeros pares e a segunda contendo todos os números impares ordenados"
   ]
  },
  {
   "cell_type": "code",
   "execution_count": 1,
   "metadata": {},
   "outputs": [],
   "source": [
    "def even_odd(numbers):\n",
    "    numbers.sort()\n",
    "    odd = []\n",
    "    even = []\n",
    "\n",
    "    for number in numbers:\n",
    "        if number % 2 == 0:\n",
    "            even.append(number)\n",
    "        else:\n",
    "            odd.append(number)\n",
    "\n",
    "    return (even, odd)"
   ]
  },
  {
   "cell_type": "code",
   "execution_count": 2,
   "metadata": {},
   "outputs": [],
   "source": [
    "assert even_odd([22, 56, 33, 0, 1, 43, 2, 66, 3, 4, 31, 5, 6, 7, 8, 9]) == \\\n",
    "                ([0, 2, 4, 6, 8, 22, 56, 66], [1, 3, 5, 7, 9, 31, 33, 43])"
   ]
  },
  {
   "cell_type": "code",
   "execution_count": 7,
   "metadata": {},
   "outputs": [],
   "source": [
    "l = [1, 2, 3, 4, 5, 6, 7, 8, 9, 10, 11, 12]\n"
   ]
  },
  {
   "cell_type": "code",
   "execution_count": 8,
   "metadata": {},
   "outputs": [
    {
     "data": {
      "text/plain": [
       "([2, 4, 6, 8, 10, 12], [1, 3, 5, 7, 9, 11])"
      ]
     },
     "execution_count": 8,
     "metadata": {},
     "output_type": "execute_result"
    }
   ],
   "source": [
    "even_odd(l)"
   ]
  }
 ],
 "metadata": {
  "kernelspec": {
   "display_name": "Python 3 (ipykernel)",
   "language": "python",
   "name": "python3"
  },
  "language_info": {
   "codemirror_mode": {
    "name": "ipython",
    "version": 3
   },
   "file_extension": ".py",
   "mimetype": "text/x-python",
   "name": "python",
   "nbconvert_exporter": "python",
   "pygments_lexer": "ipython3",
   "version": "3.9.2"
  }
 },
 "nbformat": 4,
 "nbformat_minor": 2
}
