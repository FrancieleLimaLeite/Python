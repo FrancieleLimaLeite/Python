{
 "cells": [
  {
   "cell_type": "markdown",
   "metadata": {},
   "source": [
    "## Exercício 1\n",
    "\n",
    "### Crie uma função com o nome para verificar ser um número é primo ou não.\n",
    "* a função deverá verificar se trata-se de um número inteiro e maior que zero, caso contrário deverá retornar a mensagem \"invalid argument\"\n",
    "* Caso o argumento recebido seja válido, a função deverá verificar se trata-se de um número retornando a mensagem \"prime number\", caso contrário \"not a prime number\"\n",
    "* O valor máximo que a função calculará é de 5,5 * 10^7. Caso o número passado como argumento seja maior, retornar a mensagem \"argument out of range\""
   ]
  },
  {
   "cell_type": "code",
   "execution_count": 1,
   "metadata": {},
   "outputs": [],
   "source": [
    "def prime_number(n):\n",
    "    tot = 0\n",
    "    if n > 5.5 * (10 ** 7):\n",
    "        return 'argument out of range'\n",
    "    if n < 0:\n",
    "        return 'invalid argument'\n",
    "\n",
    "    if(n // 1 == n):\n",
    "        for c in range(1, n + 1):\n",
    "            if n % c == 0:\n",
    "                \n",
    "                tot += 1\n",
    "            \n",
    "        if tot == 2:\n",
    "            return 'Prime Number'\n",
    "        else:\n",
    "            return 'Not a Prime Number'\n",
    "\n",
    "    else:\n",
    "        return 'invalid argument'"
   ]
  },
  {
   "cell_type": "code",
   "execution_count": 2,
   "metadata": {},
   "outputs": [],
   "source": [
    "assert prime_number(56000000) == 'argument out of range'\n",
    "assert prime_number(8) == 'Not a Prime Number'\n",
    "assert prime_number(3) == 'Prime Number'\n",
    "assert prime_number(-1) == 'invalid argument'\n",
    "assert prime_number(2.5) == 'invalid argument'\n"
   ]
  },
  {
   "cell_type": "markdown",
   "metadata": {},
   "source": [
    "<hr>"
   ]
  },
  {
   "cell_type": "markdown",
   "metadata": {},
   "source": [
    "## Exercício 2\n",
    "\n",
    "### Crie uma função com o nome *sum_of_products* que:\n",
    "\n",
    "* Receba duas listas numéricas como argumento.\n",
    "* Verifique todo o conteúdo das duas listas e retorne a mensagem de erro \"wrong number\" caso algum elemento não seja um número\n",
    "* A função deverá retornar a soma dos produtos de elementos de mesmo indice de cada lista\n",
    "* Caso uma das listas tenha mais elementos que a outra, considere 1 para o produto com cada elemento da lista com maior número de elementos\n",
    "* Caso as duas listas estejam vazias, retornar -1."
   ]
  },
  {
   "cell_type": "code",
   "execution_count": 3,
   "metadata": {},
   "outputs": [],
   "source": [
    "def sum_of_products(l1, l2):\n",
    "    def verifica_n(l):\n",
    "        for c in l:\n",
    "            if not isinstance(c, int) and not isinstance(c, float):\n",
    "                return False\n",
    "        return True\n",
    "\n",
    "    def lista_tam(maior, menor):\n",
    "        for c in range(0, len(maior)):\n",
    "            try:\n",
    "                soma.append(maior[c] * menor[c])\n",
    "            except:\n",
    "               soma.append(maior[c])\n",
    "        return soma\n",
    "\n",
    "    if len(l1) == 0 and len(l2) == 0:\n",
    "        return -1\n",
    "\n",
    "    if verifica_n(l1) and verifica_n(l2):\n",
    "        soma = []\n",
    "\n",
    "        if len(l1) > len(l2):\n",
    "            soma = lista_tam(l1, l2)\n",
    "        else:\n",
    "            soma = lista_tam(l2, l1)\n",
    "\n",
    "        return sum(soma)\n",
    "    else:\n",
    "        return \"wrong number\""
   ]
  },
  {
   "cell_type": "code",
   "execution_count": 4,
   "metadata": {},
   "outputs": [],
   "source": [
    "assert sum_of_products([1, 99, 53, 12, 9], [20, 5, 4]) == 748\n",
    "assert sum_of_products([50, 40, 30, 20, 10], [10, 20, 30, 40, 50]) == 3500\n",
    "assert sum_of_products([], []) == -1\n",
    "assert sum_of_products([5, 9], ['abc']) == 'wrong number'"
   ]
  },
  {
   "cell_type": "markdown",
   "metadata": {},
   "source": [
    "<hr>"
   ]
  },
  {
   "cell_type": "markdown",
   "metadata": {},
   "source": [
    "## Exercício 3\n",
    "\n",
    "### Supondo que a população de um país A seja da ordem de 90.000.000 habitantes com uma taxa anual de crescimento de 3% ao ano e que a população de um país B seja aproximadamente de 200.000.000 habitantes com uma taxa anual de cresciemento de 1,5% ao ano\n",
    "\n",
    "### Crie uma função que calcule e retorne o número de anos necessários para que a população do país A ultrapasse ou iguale a população do país B, mantidas essas taxas de crescimento.\n"
   ]
  },
  {
   "cell_type": "code",
   "execution_count": 5,
   "metadata": {},
   "outputs": [],
   "source": [
    "def calculo():\n",
    "    pA, pB, anos = 90000000, 200000000, 0\n",
    "    cA, cB = 0.03, 0.015\n",
    "    while (pA < pB):\n",
    "        anos += 1\n",
    "        pA = pA + (pA * cA)\n",
    "        pB = pB + (pB * cB)\n",
    "    print(f\"País A: {pA}\")\n",
    "    print(f\"País B: {pB}\")\n",
    "    return f\"Após {anos} anos o país A irá ultrapassar o país B em número de habitantes.\"\n"
   ]
  },
  {
   "cell_type": "code",
   "execution_count": 6,
   "metadata": {},
   "outputs": [
    {
     "name": "stdout",
     "output_type": "stream",
     "text": [
      "País A: 457393373.2489373\n",
      "País B: 453588796.8038507\n",
      "Após 55 anos o país A irá ultrapassar o país B em número de habitantes.\n"
     ]
    }
   ],
   "source": [
    "print(calculo())"
   ]
  },
  {
   "cell_type": "markdown",
   "metadata": {},
   "source": [
    "<hr>"
   ]
  }
 ],
 "metadata": {
  "kernelspec": {
   "display_name": "Python 3 (ipykernel)",
   "language": "python",
   "name": "python3"
  },
  "language_info": {
   "codemirror_mode": {
    "name": "ipython",
    "version": 3
   },
   "file_extension": ".py",
   "mimetype": "text/x-python",
   "name": "python",
   "nbconvert_exporter": "python",
   "pygments_lexer": "ipython3",
   "version": "3.9.2"
  }
 },
 "nbformat": 4,
 "nbformat_minor": 2
}
